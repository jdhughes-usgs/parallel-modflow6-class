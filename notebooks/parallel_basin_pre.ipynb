{
 "cells": [
  {
   "cell_type": "markdown",
   "metadata": {},
   "source": [
    "# Split the basin example base model"
   ]
  },
  {
   "cell_type": "markdown",
   "metadata": {},
   "source": [
    "## Notebook Setup"
   ]
  },
  {
   "cell_type": "code",
   "execution_count": null,
   "metadata": {},
   "outputs": [],
   "source": [
    "import os\n",
    "import shutil\n",
    "import numpy as np\n",
    "import matplotlib as mpl\n",
    "import matplotlib.pyplot as plt\n",
    "import pathlib as pl\n",
    "from shapely.geometry import Polygon, LineString\n",
    "\n",
    "import flopy\n",
    "from flopy.discretization import StructuredGrid\n",
    "from flopy.mf6.utils import Mf6Splitter"
   ]
  },
  {
   "cell_type": "code",
   "execution_count": null,
   "metadata": {},
   "outputs": [],
   "source": [
    "# import all plot style information from defaults.py\n",
    "from defaults import *"
   ]
  },
  {
   "cell_type": "markdown",
   "metadata": {},
   "source": [
    "### Parallel settings\n",
    "\n",
    "1. Set the number of models in the row and column directions. NOTE: Set nrow_blocks or ncol_blocks to 0 to use metis.\n",
    "2. Set path_to_mf6 to the path of parallel MODFLOW 6 (`path\\to\\mf6`) if it is not in your `PATH` otherwise set to `None`.\n"
   ]
  },
  {
   "cell_type": "code",
   "execution_count": null,
   "metadata": {},
   "outputs": [],
   "source": [
    "nrow_blocks, ncol_blocks = 8, 0\n",
    "path_to_mf6 = pl.Path.home() / \".local/bin/mf6\" "
   ]
  },
  {
   "cell_type": "code",
   "execution_count": null,
   "metadata": {},
   "outputs": [],
   "source": [
    "# set a few variables based on parallel setting defined above\n",
    "use_metis, nproc, parallel_ws = set_parallel_data(nrow_blocks, ncol_blocks)"
   ]
  },
  {
   "cell_type": "markdown",
   "metadata": {},
   "source": [
    "#### Load the base basin model"
   ]
  },
  {
   "cell_type": "code",
   "execution_count": null,
   "metadata": {},
   "outputs": [],
   "source": [
    "base_ws = pl.Path(\"../examples/ex-basin/basin_base\")"
   ]
  },
  {
   "cell_type": "code",
   "execution_count": null,
   "metadata": {},
   "outputs": [],
   "source": [
    "base_sim = flopy.mf6.MFSimulation.load(\n",
    "    sim_name=\"basin\", \n",
    "    sim_ws=base_ws,\n",
    ")"
   ]
  },
  {
   "cell_type": "code",
   "execution_count": null,
   "metadata": {},
   "outputs": [],
   "source": [
    "base_gwf = base_sim.get_model()"
   ]
  },
  {
   "cell_type": "markdown",
   "metadata": {},
   "source": [
    "### Split the base model"
   ]
  },
  {
   "cell_type": "code",
   "execution_count": null,
   "metadata": {},
   "outputs": [],
   "source": [
    "mfsplit = Mf6Splitter(base_sim)"
   ]
  },
  {
   "cell_type": "markdown",
   "metadata": {},
   "source": [
    "#### Generate the splitting array"
   ]
  },
  {
   "cell_type": "code",
   "execution_count": null,
   "metadata": {},
   "outputs": [],
   "source": [
    "if use_metis:\n",
    "    split_array = mfsplit.optimize_splitting_mask(nparts=nproc)\n",
    "else:\n",
    "    split_array = simple_mapping(\n",
    "        nrow_blocks, \n",
    "        ncol_blocks, \n",
    "        base_gwf.modelgrid,\n",
    "    )"
   ]
  },
  {
   "cell_type": "markdown",
   "metadata": {},
   "source": [
    "#### Plot the splitting array"
   ]
  },
  {
   "cell_type": "code",
   "execution_count": null,
   "metadata": {},
   "outputs": [],
   "source": [
    "fig, ax = plt.subplots(figsize=(figwidth, figwidth / 2))\n",
    "pmv = flopy.plot.PlotMapView(model=base_gwf, ax=ax)\n",
    "pa = pmv.plot_array(split_array)\n",
    "pmv.plot_inactive()\n",
    "plt.colorbar(pa, shrink=0.5)\n",
    "plt.show()"
   ]
  },
  {
   "cell_type": "markdown",
   "metadata": {},
   "source": [
    "#### Split the model"
   ]
  },
  {
   "cell_type": "code",
   "execution_count": null,
   "metadata": {},
   "outputs": [],
   "source": [
    "new_sim = mfsplit.split_model(split_array)"
   ]
  },
  {
   "cell_type": "code",
   "execution_count": null,
   "metadata": {},
   "outputs": [],
   "source": [
    "shutil.rmtree(parallel_ws, ignore_errors=True)\n",
    "new_sim.set_sim_path(parallel_ws)"
   ]
  },
  {
   "cell_type": "markdown",
   "metadata": {},
   "source": [
    "### Plot the submodels\n",
    "\n",
    "Reassemble the top of the model from the submodels"
   ]
  },
  {
   "cell_type": "code",
   "execution_count": null,
   "metadata": {},
   "outputs": [],
   "source": [
    "model_names = list(new_sim.model_names)\n",
    "top_dict = {}\n",
    "for modelname in model_names:\n",
    "    mnum = int(modelname.split(\"_\")[-1])\n",
    "    top = new_sim.get_model(modelname).dis.top.array\n",
    "    top_dict[mnum] = top\n",
    "top_split = mfsplit.reconstruct_array(top_dict)"
   ]
  },
  {
   "cell_type": "code",
   "execution_count": null,
   "metadata": {},
   "outputs": [],
   "source": [
    "fig, ax = plt.subplots(figsize=(figwidth, figwidth / 2))\n",
    "ax.set_xlim(0, Lx)\n",
    "ax.set_ylim(0, Ly)\n",
    "ax.set_aspect(\"equal\")\n",
    "pmv = flopy.plot.PlotMapView(\n",
    "    model=base_gwf,\n",
    "    ax=ax,\n",
    ")\n",
    "pa = pmv.plot_array(top_split, vmin=vmin, vmax=vmax)\n",
    "pmv.plot_inactive()\n",
    "plt.colorbar(pa, shrink=0.5)\n",
    "plt.show()"
   ]
  },
  {
   "cell_type": "markdown",
   "metadata": {},
   "source": [
    "### Write the new simulation and other needed files "
   ]
  },
  {
   "cell_type": "code",
   "execution_count": null,
   "metadata": {},
   "outputs": [],
   "source": [
    "new_sim.write_simulation(silent=True)"
   ]
  },
  {
   "cell_type": "markdown",
   "metadata": {},
   "source": [
    "#### Write the node mapping to a JSON file"
   ]
  },
  {
   "cell_type": "code",
   "execution_count": null,
   "metadata": {},
   "outputs": [],
   "source": [
    "mfsplit.save_node_mapping(parallel_ws / \"mfsplit_node_mapping.json\")"
   ]
  },
  {
   "cell_type": "markdown",
   "metadata": {},
   "source": [
    "#### Write the PETSc rc file"
   ]
  },
  {
   "cell_type": "code",
   "execution_count": null,
   "metadata": {},
   "outputs": [],
   "source": [
    "write_petscdb(parallel_ws)"
   ]
  },
  {
   "cell_type": "markdown",
   "metadata": {},
   "source": [
    "### Run the model in parallel"
   ]
  },
  {
   "cell_type": "code",
   "execution_count": null,
   "metadata": {},
   "outputs": [],
   "source": [
    "if local_simulation():\n",
    "    if path_to_mf6 is not None:\n",
    "        new_sim.exe_name = path_to_mf6\n",
    "    new_sim.run_simulation(\n",
    "        processors=min(os.cpu_count(), nproc),\n",
    "        )"
   ]
  },
  {
   "cell_type": "code",
   "execution_count": null,
   "metadata": {},
   "outputs": [],
   "source": []
  }
 ],
 "metadata": {
  "kernelspec": {
   "display_name": "Python 3 (ipykernel)",
   "language": "python",
   "name": "python3"
  },
  "language_info": {
   "codemirror_mode": {
    "name": "ipython",
    "version": 3
   },
   "file_extension": ".py",
   "mimetype": "text/x-python",
   "name": "python",
   "nbconvert_exporter": "python",
   "pygments_lexer": "ipython3",
   "version": "3.9.16"
  }
 },
 "nbformat": 4,
 "nbformat_minor": 4
}
