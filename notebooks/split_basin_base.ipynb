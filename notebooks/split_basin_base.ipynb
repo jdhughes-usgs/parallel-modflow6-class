{
 "cells": [
  {
   "cell_type": "markdown",
   "metadata": {},
   "source": [
    "# Split the basin example base model"
   ]
  },
  {
   "cell_type": "markdown",
   "metadata": {},
   "source": [
    "## Notebook Setup"
   ]
  },
  {
   "cell_type": "code",
   "execution_count": null,
   "metadata": {},
   "outputs": [],
   "source": [
    "import os\n",
    "import sys\n",
    "import shutil\n",
    "import numpy as np\n",
    "import matplotlib as mpl\n",
    "import matplotlib.pyplot as plt\n",
    "import matplotlib.gridspec as gridspec\n",
    "from shapely.geometry import Polygon, LineString\n",
    "import flopy\n",
    "from flopy.discretization import StructuredGrid\n",
    "import flopy.plot.styles as styles"
   ]
  },
  {
   "cell_type": "code",
   "execution_count": null,
   "metadata": {},
   "outputs": [],
   "source": [
    "# import all plot style information from defaults.py\n",
    "from defaults import *"
   ]
  },
  {
   "cell_type": "code",
   "execution_count": null,
   "metadata": {},
   "outputs": [],
   "source": [
    "from model_splitter import Mf6Splitter"
   ]
  },
  {
   "cell_type": "markdown",
   "metadata": {},
   "source": [
    "#### Load the base basin model"
   ]
  },
  {
   "cell_type": "code",
   "execution_count": null,
   "metadata": {},
   "outputs": [],
   "source": [
    "base_ws = \"../examples/basin_base\""
   ]
  },
  {
   "cell_type": "code",
   "execution_count": null,
   "metadata": {},
   "outputs": [],
   "source": [
    "sim = flopy.mf6.MFSimulation.load(sim_name=\"basin\", sim_ws=base_ws)"
   ]
  },
  {
   "cell_type": "code",
   "execution_count": null,
   "metadata": {},
   "outputs": [],
   "source": [
    "gwf = sim.get_model()"
   ]
  },
  {
   "cell_type": "code",
   "execution_count": null,
   "metadata": {},
   "outputs": [],
   "source": [
    "nlay, nrow, ncol = gwf.dis.nlay.array, gwf.dis.nrow.array, gwf.dis.ncol.array\n",
    "nlay, nrow, ncol"
   ]
  },
  {
   "cell_type": "markdown",
   "metadata": {},
   "source": [
    "### Build a splitting array"
   ]
  },
  {
   "cell_type": "code",
   "execution_count": null,
   "metadata": {},
   "outputs": [],
   "source": [
    "nrow_blocks, ncol_blocks = 2, 1"
   ]
  },
  {
   "cell_type": "code",
   "execution_count": null,
   "metadata": {},
   "outputs": [],
   "source": [
    "nproc = nrow_blocks * ncol_blocks\n",
    "nproc"
   ]
  },
  {
   "cell_type": "code",
   "execution_count": null,
   "metadata": {},
   "outputs": [],
   "source": [
    "row_inc, col_inc = int(nrow / nrow_blocks), int(ncol / ncol_blocks)\n",
    "row_inc, col_inc"
   ]
  },
  {
   "cell_type": "code",
   "execution_count": null,
   "metadata": {},
   "outputs": [],
   "source": [
    "icnt = 0\n",
    "row_blocks = [icnt]\n",
    "for i in range(nrow_blocks):\n",
    "    icnt += row_inc\n",
    "    row_blocks.append(icnt)\n",
    "if row_blocks[-1] < nrow:\n",
    "    row_blocks[-1] = nrow\n",
    "row_blocks"
   ]
  },
  {
   "cell_type": "code",
   "execution_count": null,
   "metadata": {},
   "outputs": [],
   "source": [
    "icnt = 0\n",
    "col_blocks = [icnt]\n",
    "for i in range(ncol_blocks):\n",
    "    icnt += col_inc\n",
    "    col_blocks.append(icnt)\n",
    "if col_blocks[-1] < ncol:\n",
    "    col_blocks[-1] = ncol\n",
    "col_blocks"
   ]
  },
  {
   "cell_type": "code",
   "execution_count": null,
   "metadata": {},
   "outputs": [],
   "source": [
    "mask = np.zeros((nrow, ncol), dtype=int)"
   ]
  },
  {
   "cell_type": "code",
   "execution_count": null,
   "metadata": {},
   "outputs": [],
   "source": [
    "# create masking array\n",
    "ival = 1\n",
    "model_row_col_offset = {}\n",
    "for idx in range(len(row_blocks) - 1):\n",
    "    for jdx in range(len(col_blocks) - 1):\n",
    "        mask[\n",
    "            row_blocks[idx] : row_blocks[idx + 1],\n",
    "            col_blocks[jdx] : col_blocks[jdx + 1],\n",
    "        ] = ival\n",
    "        model_row_col_offset[ival - 1] = (row_blocks[idx], col_blocks[jdx])\n",
    "        # increment model number\n",
    "        ival += 1"
   ]
  },
  {
   "cell_type": "code",
   "execution_count": null,
   "metadata": {},
   "outputs": [],
   "source": [
    "model_row_col_offset"
   ]
  },
  {
   "cell_type": "code",
   "execution_count": null,
   "metadata": {},
   "outputs": [],
   "source": [
    "np.unique(mask)"
   ]
  },
  {
   "cell_type": "code",
   "execution_count": null,
   "metadata": {},
   "outputs": [],
   "source": [
    "plt.imshow(mask)"
   ]
  },
  {
   "cell_type": "markdown",
   "metadata": {},
   "source": [
    "### Split into (nrow_blocks, ncol_blocks) models"
   ]
  },
  {
   "cell_type": "code",
   "execution_count": null,
   "metadata": {},
   "outputs": [],
   "source": [
    "new_ws = f\"../examples/basin_{nrow_blocks}x{ncol_blocks}_{nproc}p\"\n",
    "new_ws"
   ]
  },
  {
   "cell_type": "code",
   "execution_count": null,
   "metadata": {},
   "outputs": [],
   "source": [
    "mfsplit = Mf6Splitter(sim)"
   ]
  },
  {
   "cell_type": "code",
   "execution_count": null,
   "metadata": {},
   "outputs": [],
   "source": [
    "new_sim = mfsplit.split_model(mask)"
   ]
  },
  {
   "cell_type": "code",
   "execution_count": null,
   "metadata": {},
   "outputs": [],
   "source": [
    "shutil.rmtree(new_ws, ignore_errors=True)\n",
    "new_sim.set_sim_path(new_ws)"
   ]
  },
  {
   "cell_type": "markdown",
   "metadata": {},
   "source": [
    "### Plot the submodels"
   ]
  },
  {
   "cell_type": "code",
   "execution_count": null,
   "metadata": {},
   "outputs": [],
   "source": [
    "with styles.USGSMap():\n",
    "    fig = plt.figure(figsize=figsize)\n",
    "    ax = fig.add_subplot()\n",
    "    ax.set_xlim(0, Lx)\n",
    "    ax.set_ylim(0, Ly)\n",
    "    ax.set_aspect(\"equal\")\n",
    "    for name in new_sim.model_names:\n",
    "        m = new_sim.get_model(name)\n",
    "        pmv = flopy.plot.PlotMapView(\n",
    "            modelgrid=m.modelgrid, ax=ax, extent=extent\n",
    "        )\n",
    "        pmv.plot_array(m.dis.top.array, vmin=vmin, vmax=vmax)\n",
    "        pmv.plot_inactive()\n",
    "    # ax.plot(bp[:, 0], bp[:, 1], \"r-\")\n",
    "    # for sg in sgs:\n",
    "    #    sa = np.array(sg)\n",
    "    #    ax.plot(sa[:, 0], sa[:, 1], \"b-\")"
   ]
  },
  {
   "cell_type": "markdown",
   "metadata": {},
   "source": [
    "### Write and run the simulation "
   ]
  },
  {
   "cell_type": "code",
   "execution_count": null,
   "metadata": {},
   "outputs": [],
   "source": [
    "new_sim.write_simulation()"
   ]
  },
  {
   "cell_type": "markdown",
   "metadata": {},
   "source": [
    "### Write the PETSc rc file"
   ]
  },
  {
   "cell_type": "code",
   "execution_count": null,
   "metadata": {},
   "outputs": [],
   "source": [
    "write_petscdb(new_ws, nproc)"
   ]
  },
  {
   "cell_type": "markdown",
   "metadata": {},
   "source": [
    "### Run the model in parallel"
   ]
  },
  {
   "cell_type": "code",
   "execution_count": null,
   "metadata": {},
   "outputs": [],
   "source": [
    "new_sim.exe_name = \"mf6p\""
   ]
  },
  {
   "cell_type": "code",
   "execution_count": null,
   "metadata": {},
   "outputs": [],
   "source": [
    "new_sim.run_simulation(processors=nproc)"
   ]
  },
  {
   "cell_type": "markdown",
   "metadata": {},
   "source": [
    "### Plot the multi-model and single model heads"
   ]
  },
  {
   "cell_type": "code",
   "execution_count": null,
   "metadata": {},
   "outputs": [],
   "source": [
    "gwf_base = sim.get_model()\n",
    "gwfhead_tot = gwf_base.output.head().get_data()\n",
    "hmin, hmax = (\n",
    "    gwfhead_tot.min(),\n",
    "    np.where(gwfhead_tot < 1e30, gwfhead_tot, 0).max(),\n",
    ")\n",
    "contours = np.arange(0, 100, 10)"
   ]
  },
  {
   "cell_type": "markdown",
   "metadata": {},
   "source": [
    "#### Build a dictionary with the model heads for each partition"
   ]
  },
  {
   "cell_type": "code",
   "execution_count": null,
   "metadata": {},
   "outputs": [],
   "source": [
    "model_heads = {\n",
    "    idx + 1: new_sim.get_model(name).output.head().get_data()\n",
    "    for idx, name in enumerate(new_sim.model_names)\n",
    "}"
   ]
  },
  {
   "cell_type": "markdown",
   "metadata": {},
   "source": [
    "#### Build a single head array"
   ]
  },
  {
   "cell_type": "code",
   "execution_count": null,
   "metadata": {},
   "outputs": [],
   "source": [
    "head_tot = mfsplit.reconstruct_array(model_heads)"
   ]
  },
  {
   "cell_type": "markdown",
   "metadata": {},
   "source": [
    "#### Plot the results"
   ]
  },
  {
   "cell_type": "code",
   "execution_count": null,
   "metadata": {},
   "outputs": [],
   "source": [
    "with styles.USGSMap():\n",
    "    fig = plt.figure(figsize=(figwidth, figheight * 1.3333))\n",
    "    t = head_tot - gwfhead_tot\n",
    "    hv = [head_tot, gwfhead_tot, t]\n",
    "    titles = [\"Multiple models\", \"Single model\", \"Multiple - single\"]\n",
    "    for idx in range(3):\n",
    "        ax = fig.add_subplot(3, 1, idx + 1)\n",
    "        ax.set_aspect(\"equal\")\n",
    "        ax.set_title(titles[idx])\n",
    "\n",
    "        if idx < 2:\n",
    "            levels = contours\n",
    "            vmin = hmin\n",
    "            vmax = hmax\n",
    "            masked_values = None\n",
    "        else:\n",
    "            levels = None\n",
    "            vmin = None\n",
    "            vmax = None\n",
    "            masked_values = None\n",
    "\n",
    "        pmv = flopy.plot.PlotMapView(model=gwf_base, ax=ax, layer=0)\n",
    "        h = pmv.plot_array(hv[idx], vmin=vmin, vmax=vmax)\n",
    "        if levels is not None:\n",
    "            c = pmv.contour_array(\n",
    "                hv[idx],\n",
    "                levels=levels,\n",
    "                colors=\"white\",\n",
    "                linewidths=0.75,\n",
    "                linestyles=\":\",\n",
    "            )\n",
    "            plt.clabel(c, fontsize=8)\n",
    "        pmv.plot_inactive()\n",
    "        plt.colorbar(h, ax=ax, shrink=0.5)"
   ]
  },
  {
   "cell_type": "code",
   "execution_count": null,
   "metadata": {},
   "outputs": [],
   "source": []
  }
 ],
 "metadata": {
  "kernelspec": {
   "display_name": "Python 3 (ipykernel)",
   "language": "python",
   "name": "python3"
  },
  "language_info": {
   "codemirror_mode": {
    "name": "ipython",
    "version": 3
   },
   "file_extension": ".py",
   "mimetype": "text/x-python",
   "name": "python",
   "nbconvert_exporter": "python",
   "pygments_lexer": "ipython3",
   "version": "3.9.16"
  }
 },
 "nbformat": 4,
 "nbformat_minor": 4
}
