{
 "cells": [
  {
   "cell_type": "markdown",
   "metadata": {},
   "source": [
    "# Build the structured box base model"
   ]
  },
  {
   "cell_type": "markdown",
   "metadata": {},
   "source": [
    "## Notebook Setup"
   ]
  },
  {
   "cell_type": "code",
   "execution_count": null,
   "metadata": {},
   "outputs": [],
   "source": [
    "import shutil\n",
    "import numpy as np\n",
    "import matplotlib as mpl\n",
    "import matplotlib.pyplot as plt\n",
    "import matplotlib.colors as colors\n",
    "import pathlib as pl\n",
    "from shapely.geometry import Polygon, LineString\n",
    "import flopy\n",
    "from flopy.discretization import StructuredGrid"
   ]
  },
  {
   "cell_type": "code",
   "execution_count": null,
   "metadata": {},
   "outputs": [],
   "source": [
    "from defaults import *\n",
    "from plot_functions import *"
   ]
  },
  {
   "cell_type": "code",
   "execution_count": null,
   "metadata": {},
   "outputs": [],
   "source": [
    "horiz_k = flopy.utils.Raster.load(\"./grid_data/box_k.asc\")"
   ]
  },
  {
   "cell_type": "markdown",
   "metadata": {},
   "source": [
    "### Parallel settings\n",
    "\n",
    "1. Set `path_to_mf6` to the path of parallel MODFLOW 6 (`path\\to\\mf6`) if it is not in your `PATH` otherwise set to `None`."
   ]
  },
  {
   "cell_type": "code",
   "execution_count": null,
   "metadata": {},
   "outputs": [],
   "source": [
    "path_to_mf6 = pl.Path.home() / \".local/bin/mf6\""
   ]
  },
  {
   "cell_type": "markdown",
   "metadata": {},
   "source": [
    "# Basin Structured Example\n",
    "\n",
    "Structured grid parameters"
   ]
  },
  {
   "cell_type": "code",
   "execution_count": null,
   "metadata": {},
   "outputs": [],
   "source": [
    "box_x, box_y = 19225.0, 19850.0\n",
    "dx = dy = 100.0\n",
    "nrow = int(box_y / dy) + 1\n",
    "ncol = int(box_x / dx) + 1"
   ]
  },
  {
   "cell_type": "markdown",
   "metadata": {},
   "source": [
    "Create a structured grid"
   ]
  },
  {
   "cell_type": "code",
   "execution_count": null,
   "metadata": {},
   "outputs": [],
   "source": [
    "working_grid = StructuredGrid(\n",
    "    nlay=1,\n",
    "    delr=np.full(ncol, dx),\n",
    "    delc=np.full(nrow, dy),\n",
    "    xoff=0.0,\n",
    "    yoff=0.0,\n",
    "    top=np.full((nrow, ncol), 1000.0),\n",
    "    botm=np.full((1, nrow, ncol), -100.0),\n",
    ")\n",
    "\n",
    "print(f\"nrow: {nrow} ncol: {ncol}\")"
   ]
  },
  {
   "cell_type": "markdown",
   "metadata": {},
   "source": [
    "Sample topography"
   ]
  },
  {
   "cell_type": "code",
   "execution_count": null,
   "metadata": {},
   "outputs": [],
   "source": [
    "npf_k = horiz_k.resample_to_grid(\n",
    "    working_grid,\n",
    "    band=horiz_k.bands[0],\n",
    "    method=\"linear\",\n",
    "    extrapolate_edges=True,\n",
    ")"
   ]
  },
  {
   "cell_type": "code",
   "execution_count": null,
   "metadata": {},
   "outputs": [],
   "source": [
    "fig = plt.figure(figsize=figsize)\n",
    "ax = fig.add_subplot()\n",
    "pmv = flopy.plot.PlotMapView(modelgrid=working_grid)\n",
    "ax.set_aspect(\"equal\")\n",
    "v = pmv.plot_array(\n",
    "    npf_k,\n",
    "    norm=colors.LogNorm(vmin=npf_k.min(), vmax=npf_k.max()),\n",
    ")\n",
    "plt.colorbar(v, shrink=0.5)\n",
    "ax.set_title(\"Sampled Hydraulic Coductivity\");"
   ]
  },
  {
   "cell_type": "markdown",
   "metadata": {},
   "source": [
    "### Build the base model\n",
    "\n",
    "Set the simulation workspace"
   ]
  },
  {
   "cell_type": "code",
   "execution_count": null,
   "metadata": {},
   "outputs": [],
   "source": [
    "list_valid_simulations()"
   ]
  },
  {
   "cell_type": "code",
   "execution_count": null,
   "metadata": {},
   "outputs": [],
   "source": [
    "sim_ws = get_base_workspace(simulation_type=\"box_structured\")\n",
    "shutil.rmtree(sim_ws, ignore_errors=True)\n",
    "sim_ws"
   ]
  },
  {
   "cell_type": "markdown",
   "metadata": {},
   "source": [
    "Define the number of layers"
   ]
  },
  {
   "cell_type": "code",
   "execution_count": null,
   "metadata": {},
   "outputs": [],
   "source": [
    "nlay = 1"
   ]
  },
  {
   "cell_type": "markdown",
   "metadata": {},
   "source": [
    "Create the TDIS data"
   ]
  },
  {
   "cell_type": "code",
   "execution_count": null,
   "metadata": {},
   "outputs": [],
   "source": [
    "nper = 3\n",
    "tdis_data = [\n",
    "    (1.0, 1, 1.0),\n",
    "    (1000.0, 10, 1.5),\n",
    "    (1.0, 1, 1.0),\n",
    "]"
   ]
  },
  {
   "cell_type": "markdown",
   "metadata": {},
   "source": [
    "Create the chd data"
   ]
  },
  {
   "cell_type": "code",
   "execution_count": null,
   "metadata": {},
   "outputs": [],
   "source": [
    "chd_dict = {0: 48, ncol - 1: 40}\n",
    "chd_data = []\n",
    "for key, value in chd_dict.items():\n",
    "    for row in range(nrow):\n",
    "        chd_data.append((0, row, key, value))\n",
    "chd_data[:5], chd_data[-5:]"
   ]
  },
  {
   "cell_type": "markdown",
   "metadata": {},
   "source": [
    "Create the well data"
   ]
  },
  {
   "cell_type": "code",
   "execution_count": null,
   "metadata": {},
   "outputs": [],
   "source": [
    "well_x, well_y = box_x / 2.0, box_y / 2.0\n",
    "rw, cw = working_grid.intersect(well_x, well_y)\n",
    "well_data = {\n",
    "    1: [\n",
    "        (0, rw, cw, -1000),\n",
    "    ],\n",
    "}\n",
    "well_data"
   ]
  },
  {
   "cell_type": "markdown",
   "metadata": {},
   "source": [
    "Create starting head data"
   ]
  },
  {
   "cell_type": "code",
   "execution_count": null,
   "metadata": {},
   "outputs": [],
   "source": [
    "strt = list(chd_dict.values())[0]\n",
    "strt"
   ]
  },
  {
   "cell_type": "markdown",
   "metadata": {},
   "source": [
    "### Build the model files using FloPy"
   ]
  },
  {
   "cell_type": "code",
   "execution_count": null,
   "metadata": {},
   "outputs": [],
   "source": [
    "sim = flopy.mf6.MFSimulation(\n",
    "    sim_ws=sim_ws,\n",
    "    exe_name=\"mf6\",\n",
    "    memory_print_option=\"summary\",\n",
    ")\n",
    "\n",
    "tdis = flopy.mf6.ModflowTdis(sim, nper=nper, perioddata=tdis_data)\n",
    "ims = flopy.mf6.ModflowIms(\n",
    "    sim,\n",
    "    complexity=\"simple\",\n",
    "    print_option=\"SUMMARY\",\n",
    "    linear_acceleration=\"bicgstab\",\n",
    "    outer_maximum=1000,\n",
    "    inner_maximum=100,\n",
    "    outer_dvclose=1e-5,\n",
    "    inner_dvclose=1e-6,\n",
    "    preconditioner_levels=2,\n",
    "    relaxation_factor=0.0,\n",
    ")\n",
    "gwf = flopy.mf6.ModflowGwf(\n",
    "    sim,\n",
    "    print_input=True,\n",
    "    save_flows=True,\n",
    "    newtonoptions=\"NEWTON UNDER_RELAXATION\",\n",
    ")\n",
    "\n",
    "dis = flopy.mf6.ModflowGwfdis(\n",
    "    gwf,\n",
    "    nlay=nlay,\n",
    "    nrow=nrow,\n",
    "    ncol=ncol,\n",
    "    delr=dx,\n",
    "    delc=dy,\n",
    "    top=100.0,\n",
    "    botm=-100.0,\n",
    "    idomain=1,\n",
    "    xorigin=0.0,\n",
    "    yorigin=0.0,\n",
    ")\n",
    "\n",
    "ic = flopy.mf6.ModflowGwfic(gwf, strt=strt)\n",
    "npf = flopy.mf6.ModflowGwfnpf(\n",
    "    gwf,\n",
    "    save_specific_discharge=True,\n",
    "    icelltype=1,\n",
    "    k=npf_k,\n",
    ")\n",
    "sto = flopy.mf6.ModflowGwfsto(\n",
    "    gwf,\n",
    "    sy=0.1,\n",
    "    ss=1e-5,\n",
    "    iconvert=1,\n",
    "    steady_state={0: True, 2: True},\n",
    "    transient={1: True},\n",
    ")\n",
    "chd = flopy.mf6.ModflowGwfchd(\n",
    "    gwf,\n",
    "    stress_period_data=chd_data,\n",
    ")\n",
    "wel = flopy.mf6.ModflowGwfwel(\n",
    "    gwf,\n",
    "    stress_period_data=well_data,\n",
    ")\n",
    "oc = flopy.mf6.ModflowGwfoc(\n",
    "    gwf,\n",
    "    head_filerecord=f\"{gwf.name}.hds\",\n",
    "    budget_filerecord=f\"{gwf.name}.cbc\",\n",
    "    saverecord=[(\"HEAD\", \"ALL\"), (\"BUDGET\", \"ALL\")],\n",
    "    printrecord=[(\"BUDGET\", \"ALL\")],\n",
    ")"
   ]
  },
  {
   "cell_type": "markdown",
   "metadata": {},
   "source": [
    "Count the number of active cells"
   ]
  },
  {
   "cell_type": "code",
   "execution_count": null,
   "metadata": {},
   "outputs": [],
   "source": [
    "total_cells, active_cells = get_simulation_cell_count(sim)\n",
    "total_cells, active_cells"
   ]
  },
  {
   "cell_type": "markdown",
   "metadata": {},
   "source": [
    "### Write the model files"
   ]
  },
  {
   "cell_type": "code",
   "execution_count": null,
   "metadata": {},
   "outputs": [],
   "source": [
    "sim.write_simulation()"
   ]
  },
  {
   "cell_type": "code",
   "execution_count": null,
   "metadata": {},
   "outputs": [],
   "source": [
    "write_petscdb(sim_ws)"
   ]
  },
  {
   "cell_type": "markdown",
   "metadata": {},
   "source": [
    "### Run the model"
   ]
  },
  {
   "cell_type": "code",
   "execution_count": null,
   "metadata": {},
   "outputs": [],
   "source": [
    "if local_simulation():\n",
    "    if path_to_mf6 is not None:\n",
    "        sim.exe_name = path_to_mf6\n",
    "    sim.run_simulation(processors=1)"
   ]
  }
 ],
 "metadata": {
  "kernelspec": {
   "display_name": "Python 3 (ipykernel)",
   "language": "python",
   "name": "python3"
  },
  "language_info": {
   "codemirror_mode": {
    "name": "ipython",
    "version": 3
   },
   "file_extension": ".py",
   "mimetype": "text/x-python",
   "name": "python",
   "nbconvert_exporter": "python",
   "pygments_lexer": "ipython3",
   "version": "3.9.16"
  }
 },
 "nbformat": 4,
 "nbformat_minor": 4
}
