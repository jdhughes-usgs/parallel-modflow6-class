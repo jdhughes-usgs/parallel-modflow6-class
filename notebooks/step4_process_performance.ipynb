{
 "cells": [
  {
   "cell_type": "code",
   "execution_count": null,
   "id": "de2773ce-5472-4869-b573-e52080f1fa39",
   "metadata": {},
   "outputs": [],
   "source": [
    "import numpy as np\n",
    "import matplotlib.pyplot as plt\n",
    "import pathlib as pl\n",
    "import flopy"
   ]
  },
  {
   "cell_type": "code",
   "execution_count": null,
   "id": "462fa534-f5a3-4d4c-bb7f-148518799442",
   "metadata": {},
   "outputs": [],
   "source": [
    "# import containerized functionality from defaults.py and performance\n",
    "from defaults import *\n",
    "from performance import *"
   ]
  },
  {
   "cell_type": "code",
   "execution_count": null,
   "id": "91f42b43-f434-4993-8b30-95f3fe519936",
   "metadata": {},
   "outputs": [],
   "source": [
    "figure_path = pl.Path(\"figures\")\n",
    "figure_path.mkdir(parents=True, exist_ok=True)"
   ]
  },
  {
   "cell_type": "markdown",
   "id": "23fb0b50-c8bc-4688-aa88-82e7d9295f2b",
   "metadata": {},
   "source": [
    "### Parallel settings\n",
    "\n",
    "1. Set voronoi to `True` to evaluate performance of Voronoi grid base and parallel models. metis cannot be `True` if voronoi is `True`.\n",
    "2. Set metis to `True` to evaluate performance of structured grid base and parallel models split with Metis. voronoi cannot be `True` if metis is `True`."
   ]
  },
  {
   "cell_type": "code",
   "execution_count": null,
   "id": "be64295c-a41a-4afd-9dca-fde0d09361c0",
   "metadata": {},
   "outputs": [],
   "source": [
    "voronoi = False\n",
    "metis = True"
   ]
  },
  {
   "cell_type": "code",
   "execution_count": null,
   "id": "6c5772c6-c9bd-46b3-8442-b38ac0b7b8c6",
   "metadata": {},
   "outputs": [],
   "source": [
    "paths = get_available_workspaces(metis=metis, voronoi=voronoi)\n",
    "paths"
   ]
  },
  {
   "cell_type": "code",
   "execution_count": null,
   "id": "e23d8f87-4b15-42fe-b594-71aac8ee7ba2",
   "metadata": {},
   "outputs": [],
   "source": [
    "base_sim = flopy.mf6.MFSimulation.load(\n",
    "    sim_name=\"basin\",\n",
    "    sim_ws=paths[0],\n",
    "    verbosity_level=0,\n",
    ")\n",
    "base_gwf = base_sim.get_model()"
   ]
  },
  {
   "cell_type": "code",
   "execution_count": null,
   "id": "895614bd-557e-4288-b808-c3a9d7e508e0",
   "metadata": {},
   "outputs": [],
   "source": [
    "total_cells, active_cells = get_simulation_cell_count(base_sim)\n",
    "total_cells, active_cells"
   ]
  },
  {
   "cell_type": "code",
   "execution_count": null,
   "id": "182c96af-e596-49bb-9a62-b11aa707f0aa",
   "metadata": {},
   "outputs": [],
   "source": [
    "processors = get_simulation_processors(metis=metis, voronoi=voronoi)\n",
    "processors"
   ]
  },
  {
   "cell_type": "markdown",
   "id": "806b9283-508f-4647-9ca0-06d3d1d6934c",
   "metadata": {},
   "source": [
    "### Evaluate if there are any failed simulations"
   ]
  },
  {
   "cell_type": "code",
   "execution_count": null,
   "id": "8b4d7746-942f-4b47-9ab3-119e6c88c8d2",
   "metadata": {},
   "outputs": [],
   "source": [
    "processors_remove = []\n",
    "paths_remove = []\n",
    "for idx, path in enumerate(paths):\n",
    "    list_files = get_simulation_listfiles(path)\n",
    "    if len(list_files) == 0:\n",
    "        processors_remove.append(processors[idx])\n",
    "        paths_remove.append(path)\n",
    "        continue\n",
    "    for list_file in list_files:\n",
    "        sim_data = SimulationData(list_file)\n",
    "        if not sim_data.is_normal_termination():\n",
    "            if path not in paths_remove:\n",
    "                processors_remove.append(processors[idx])\n",
    "                paths_remove.append(path)\n",
    "            break\n",
    "if len(processors_remove) > 0:\n",
    "    print(\"Processors to remove:\", \", \".join(str(v) for v in processors_remove))\n",
    "    print(\"Paths to remove:\", \", \".join(str(s) for s in paths_remove))"
   ]
  },
  {
   "cell_type": "code",
   "execution_count": null,
   "id": "12ccaea4-f9db-41be-9d71-4a30832e70a2",
   "metadata": {},
   "outputs": [],
   "source": [
    "for proc, pth in zip(processors_remove, paths_remove):\n",
    "    processors.remove(proc)\n",
    "    paths.remove(pth)"
   ]
  },
  {
   "cell_type": "markdown",
   "id": "99986fb2-9fdc-4799-8ea7-8bf78919b6ff",
   "metadata": {},
   "source": [
    "### Calculate the performance data for the simulations"
   ]
  },
  {
   "cell_type": "code",
   "execution_count": null,
   "id": "f318d72a-fa03-4507-b602-50f16b67dc76",
   "metadata": {},
   "outputs": [],
   "source": [
    "# calculate performance data\n",
    "mean_runtimes = []\n",
    "mean_formulatetimes = []\n",
    "mean_solutiontimes = []\n",
    "max_iterations = []\n",
    "total_memory_usage = []\n",
    "max_memory_usage = []\n",
    "for idx, path in enumerate(paths):\n",
    "    list_files = get_simulation_listfiles(path)\n",
    "    mean_runtimes.append(\n",
    "        np.mean(\n",
    "            [\n",
    "                SimulationData(list_file).get_model_runtime()\n",
    "                for list_file in list_files\n",
    "            ]\n",
    "        )\n",
    "    )\n",
    "    mean_formulatetimes.append(\n",
    "        np.mean(\n",
    "            [\n",
    "                SimulationData(list_file).get_formulate_time()\n",
    "                for list_file in list_files\n",
    "            ]\n",
    "        )\n",
    "    )\n",
    "    mean_solutiontimes.append(\n",
    "        np.mean(\n",
    "            [\n",
    "                SimulationData(list_file).get_solution_time()\n",
    "                for list_file in list_files\n",
    "            ]\n",
    "        )\n",
    "    )\n",
    "    max_iterations.append(\n",
    "        int(\n",
    "            np.max(\n",
    "                [\n",
    "                    SimulationData(list_file).get_total_iterations()\n",
    "                    for list_file in list_files\n",
    "                    ]\n",
    "            )\n",
    "        )\n",
    "    )\n",
    "    total_memory_usage.append(\n",
    "        np.sum(\n",
    "            [\n",
    "                SimulationData(list_file).get_memory_usage()\n",
    "                for list_file in list_files\n",
    "            ]\n",
    "        )\n",
    "    )\n",
    "    max_memory_usage.append(\n",
    "        np.max(\n",
    "            [\n",
    "                SimulationData(list_file).get_memory_usage()\n",
    "                for list_file in list_files\n",
    "            ]\n",
    "        )\n",
    "    )\n",
    "    "
   ]
  },
  {
   "cell_type": "code",
   "execution_count": null,
   "id": "8f003642-4bc9-493d-894c-47cb3c9921bf",
   "metadata": {},
   "outputs": [],
   "source": [
    "if len(paths) > 0:\n",
    "    speedup = (mean_runtimes[0] / np.array(mean_runtimes)).tolist()\n",
    "    formulate_speedup = (mean_formulatetimes[0] / np.array(mean_formulatetimes)).tolist()\n",
    "    solution_speedup = (mean_solutiontimes[0] / np.array(mean_solutiontimes)).tolist()\n",
    "else:\n",
    "    speedup = []\n",
    "    formulate_speedup = []\n",
    "    solution_speedup = []"
   ]
  },
  {
   "cell_type": "code",
   "execution_count": null,
   "id": "87550c47-fec3-47ee-94f6-151fe8e9def6",
   "metadata": {},
   "outputs": [],
   "source": [
    "# create a json for data\n",
    "performance = {\n",
    "    \"grid_type\": base_gwf.modelgrid.grid_type,\n",
    "    \"metis\": metis,\n",
    "    \"voronoi\": voronoi,\n",
    "    \"total_cells\": total_cells,\n",
    "    \"active_cells\": active_cells,\n",
    "    \"processors\": processors,\n",
    "    \"mean_runtimes\": mean_runtimes,\n",
    "    \"max_iterations\": max_iterations,\n",
    "    \"mean_formulatetimes\": mean_formulatetimes,\n",
    "    \"mean_solutiontimes\": mean_solutiontimes,\n",
    "    \"formulate_speedup\": formulate_speedup,\n",
    "    \"solution_speedup\": solution_speedup,\n",
    "    \"speedup\": speedup,\n",
    "    \"max_memory_usage\": max_memory_usage,\n",
    "    \"total_memory_usage\": total_memory_usage,\n",
    "}"
   ]
  },
  {
   "cell_type": "markdown",
   "id": "74945109-884c-4fe2-977b-cef0804b010f",
   "metadata": {},
   "source": [
    "### Save the performance data to a json"
   ]
  },
  {
   "cell_type": "code",
   "execution_count": null,
   "id": "b4361d68-ae73-471f-bc9e-b446fe7bc800",
   "metadata": {},
   "outputs": [],
   "source": [
    "performance_json = save_performance_json(performance)"
   ]
  }
 ],
 "metadata": {
  "kernelspec": {
   "display_name": "Python 3 (ipykernel)",
   "language": "python",
   "name": "python3"
  },
  "language_info": {
   "codemirror_mode": {
    "name": "ipython",
    "version": 3
   },
   "file_extension": ".py",
   "mimetype": "text/x-python",
   "name": "python",
   "nbconvert_exporter": "python",
   "pygments_lexer": "ipython3",
   "version": "3.9.16"
  }
 },
 "nbformat": 4,
 "nbformat_minor": 5
}
