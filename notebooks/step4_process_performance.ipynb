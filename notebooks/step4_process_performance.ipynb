{
 "cells": [
  {
   "cell_type": "code",
   "execution_count": null,
   "id": "de2773ce-5472-4869-b573-e52080f1fa39",
   "metadata": {},
   "outputs": [],
   "source": [
    "import numpy as np\n",
    "import matplotlib.pyplot as plt\n",
    "import pathlib as pl\n",
    "import flopy"
   ]
  },
  {
   "cell_type": "code",
   "execution_count": null,
   "id": "462fa534-f5a3-4d4c-bb7f-148518799442",
   "metadata": {},
   "outputs": [],
   "source": [
    "from defaults import (\n",
    "    get_available_workspaces,\n",
    "    get_simulation_cell_count,\n",
    "    list_valid_simulations,\n",
    "    get_base_workspace,\n",
    ")\n",
    "from performance import *"
   ]
  },
  {
   "cell_type": "markdown",
   "id": "350bccd9-f662-4345-8d64-806bc9c029b1",
   "metadata": {},
   "source": [
    "### List the valid simulation types"
   ]
  },
  {
   "cell_type": "code",
   "execution_count": null,
   "id": "83135bda-f335-41be-bd1b-62d742ad31bb",
   "metadata": {},
   "outputs": [],
   "source": [
    "list_valid_simulations()"
   ]
  },
  {
   "cell_type": "markdown",
   "id": "23fb0b50-c8bc-4688-aa88-82e7d9295f2b",
   "metadata": {},
   "source": [
    "### Parallel settings\n",
    "\n",
    "1. Set simulation_type to a valid simulation type (listed above).\n",
    "2. Set metis to `True` to evaluate performance of structured grid base and parallel models split with Metis. metis can be `True` or `False` is processing an unstructured grid."
   ]
  },
  {
   "cell_type": "code",
   "execution_count": null,
   "id": "be64295c-a41a-4afd-9dca-fde0d09361c0",
   "metadata": {},
   "outputs": [],
   "source": [
    "simulation_type = \"box_structured\"\n",
    "metis = True"
   ]
  },
  {
   "cell_type": "code",
   "execution_count": null,
   "id": "22696083-b4b2-4a0f-9511-fcd093c22d9b",
   "metadata": {},
   "outputs": [],
   "source": [
    "get_base_workspace(simulation_type=simulation_type)"
   ]
  },
  {
   "cell_type": "code",
   "execution_count": null,
   "id": "6c5772c6-c9bd-46b3-8442-b38ac0b7b8c6",
   "metadata": {},
   "outputs": [],
   "source": [
    "paths = get_available_workspaces(metis=metis, simulation_type=simulation_type)\n",
    "paths"
   ]
  },
  {
   "cell_type": "code",
   "execution_count": null,
   "id": "e23d8f87-4b15-42fe-b594-71aac8ee7ba2",
   "metadata": {},
   "outputs": [],
   "source": [
    "base_sim = flopy.mf6.MFSimulation.load(\n",
    "    sim_ws=paths[0],\n",
    "    verbosity_level=0,\n",
    ")\n",
    "base_gwf = base_sim.get_model()"
   ]
  },
  {
   "cell_type": "code",
   "execution_count": null,
   "id": "895614bd-557e-4288-b808-c3a9d7e508e0",
   "metadata": {},
   "outputs": [],
   "source": [
    "total_cells, active_cells = get_simulation_cell_count(base_sim)\n",
    "total_cells, active_cells"
   ]
  },
  {
   "cell_type": "code",
   "execution_count": null,
   "id": "182c96af-e596-49bb-9a62-b11aa707f0aa",
   "metadata": {},
   "outputs": [],
   "source": [
    "processors = get_simulation_processors(\n",
    "    metis=metis,\n",
    "    simulation_type=simulation_type,\n",
    ")\n",
    "processors"
   ]
  },
  {
   "cell_type": "markdown",
   "id": "806b9283-508f-4647-9ca0-06d3d1d6934c",
   "metadata": {},
   "source": [
    "### Evaluate if there are any failed simulations"
   ]
  },
  {
   "cell_type": "code",
   "execution_count": null,
   "id": "8b4d7746-942f-4b47-9ab3-119e6c88c8d2",
   "metadata": {},
   "outputs": [],
   "source": [
    "processors_remove = []\n",
    "paths_remove = []\n",
    "for idx, path in enumerate(paths):\n",
    "    list_files = get_simulation_listfiles(path)\n",
    "    if len(list_files) == 0:\n",
    "        processors_remove.append(processors[idx])\n",
    "        paths_remove.append(path)\n",
    "        continue\n",
    "    for list_file in list_files:\n",
    "        sim_data = SimulationData(list_file)\n",
    "        if not sim_data.is_normal_termination():\n",
    "            if path not in paths_remove:\n",
    "                processors_remove.append(processors[idx])\n",
    "                paths_remove.append(path)\n",
    "            break\n",
    "if len(processors_remove) > 0:\n",
    "    print(\n",
    "        \"Processors to remove:\", \", \".join(str(v) for v in processors_remove)\n",
    "    )\n",
    "    print(\"Paths to remove:\", \", \".join(str(s) for s in paths_remove))"
   ]
  },
  {
   "cell_type": "code",
   "execution_count": null,
   "id": "12ccaea4-f9db-41be-9d71-4a30832e70a2",
   "metadata": {},
   "outputs": [],
   "source": [
    "for proc, pth in zip(processors_remove, paths_remove):\n",
    "    processors.remove(proc)\n",
    "    paths.remove(pth)"
   ]
  },
  {
   "cell_type": "markdown",
   "id": "99986fb2-9fdc-4799-8ea7-8bf78919b6ff",
   "metadata": {},
   "source": [
    "### Calculate the performance data for the simulations"
   ]
  },
  {
   "cell_type": "code",
   "execution_count": null,
   "id": "f318d72a-fa03-4507-b602-50f16b67dc76",
   "metadata": {},
   "outputs": [],
   "source": [
    "# calculate performance data\n",
    "mean_runtimes = []\n",
    "mean_formulatetimes = []\n",
    "mean_solutiontimes = []\n",
    "outer_iterations = []\n",
    "max_iterations = []\n",
    "total_memory_usage = []\n",
    "max_memory_usage = []\n",
    "total_virtual_memory_usage = []\n",
    "max_virtual_memory_usage = []\n",
    "total_non_virtual_memory_usage = []\n",
    "max_non_virtual_memory_usage = []\n",
    "for idx, path in enumerate(paths):\n",
    "    list_files = get_simulation_listfiles(path)\n",
    "    mean_runtimes.append(\n",
    "        np.mean(\n",
    "            [\n",
    "                SimulationData(list_file).get_model_runtime()\n",
    "                for list_file in list_files\n",
    "            ]\n",
    "        )\n",
    "    )\n",
    "    mean_formulatetimes.append(\n",
    "        np.mean(\n",
    "            [\n",
    "                SimulationData(list_file).get_formulate_time()\n",
    "                for list_file in list_files\n",
    "            ]\n",
    "        )\n",
    "    )\n",
    "    mean_solutiontimes.append(\n",
    "        np.mean(\n",
    "            [\n",
    "                SimulationData(list_file).get_solution_time()\n",
    "                for list_file in list_files\n",
    "            ]\n",
    "        )\n",
    "    )\n",
    "    outer_iterations.append(\n",
    "        int(\n",
    "            np.max(\n",
    "                [\n",
    "                    SimulationData(list_file).get_outer_iterations()\n",
    "                    for list_file in list_files\n",
    "                ]\n",
    "            )\n",
    "        )\n",
    "    )\n",
    "    max_iterations.append(\n",
    "        int(\n",
    "            np.max(\n",
    "                [\n",
    "                    SimulationData(list_file).get_total_iterations()\n",
    "                    for list_file in list_files\n",
    "                ]\n",
    "            )\n",
    "        )\n",
    "    )\n",
    "    total_memory_usage.append(\n",
    "        np.sum(\n",
    "            [\n",
    "                SimulationData(list_file).get_memory_usage()\n",
    "                for list_file in list_files\n",
    "            ]\n",
    "        )\n",
    "    )\n",
    "    max_memory_usage.append(\n",
    "        np.max(\n",
    "            [\n",
    "                SimulationData(list_file).get_memory_usage()\n",
    "                for list_file in list_files\n",
    "            ]\n",
    "        )\n",
    "    )\n",
    "    total_virtual_memory_usage.append(\n",
    "        np.sum(\n",
    "            [\n",
    "                SimulationData(list_file).get_memory_usage(virtual=True)\n",
    "                for list_file in list_files\n",
    "            ]\n",
    "        )\n",
    "    )\n",
    "    max_virtual_memory_usage.append(\n",
    "        np.max(\n",
    "            [\n",
    "                SimulationData(list_file).get_memory_usage(virtual=True)\n",
    "                for list_file in list_files\n",
    "            ]\n",
    "        )\n",
    "    )\n",
    "    total_non_virtual_memory_usage.append(\n",
    "        np.sum(\n",
    "            [\n",
    "                SimulationData(list_file).get_non_virtual_memory_usage()\n",
    "                for list_file in list_files\n",
    "            ]\n",
    "        )\n",
    "    )\n",
    "    max_non_virtual_memory_usage.append(\n",
    "        np.max(\n",
    "            [\n",
    "                SimulationData(list_file).get_non_virtual_memory_usage()\n",
    "                for list_file in list_files\n",
    "            ]\n",
    "        )\n",
    "    )"
   ]
  },
  {
   "cell_type": "code",
   "execution_count": null,
   "id": "8f003642-4bc9-493d-894c-47cb3c9921bf",
   "metadata": {},
   "outputs": [],
   "source": [
    "if len(paths) > 0:\n",
    "    speedup = (\n",
    "        mean_runtimes[0] * processors[0] / np.array(mean_runtimes)\n",
    "    ).tolist()\n",
    "    formulate_speedup = (\n",
    "        mean_formulatetimes[0] * processors[0] / np.array(mean_formulatetimes)\n",
    "    ).tolist()\n",
    "    solution_speedup = (\n",
    "        mean_solutiontimes[0] * processors[0] / np.array(mean_solutiontimes)\n",
    "    ).tolist()\n",
    "else:\n",
    "    speedup = []\n",
    "    formulate_speedup = []\n",
    "    solution_speedup = []"
   ]
  },
  {
   "cell_type": "code",
   "execution_count": null,
   "id": "87550c47-fec3-47ee-94f6-151fe8e9def6",
   "metadata": {},
   "outputs": [],
   "source": [
    "# create a json for data\n",
    "performance = {\n",
    "    \"grid_type\": base_gwf.modelgrid.grid_type,\n",
    "    \"metis\": metis,\n",
    "    \"simulation_type\": simulation_type,\n",
    "    \"total_cells\": total_cells,\n",
    "    \"active_cells\": active_cells,\n",
    "    \"processors\": processors,\n",
    "    \"mean_runtimes\": mean_runtimes,\n",
    "    \"outer_iterations\": outer_iterations,\n",
    "    \"max_iterations\": max_iterations,\n",
    "    \"mean_formulatetimes\": mean_formulatetimes,\n",
    "    \"mean_solutiontimes\": mean_solutiontimes,\n",
    "    \"formulate_speedup\": formulate_speedup,\n",
    "    \"solution_speedup\": solution_speedup,\n",
    "    \"speedup\": speedup,\n",
    "    \"max_memory_usage\": max_memory_usage,\n",
    "    \"total_memory_usage\": total_memory_usage,\n",
    "    \"total_virtual_memory_usage\": total_virtual_memory_usage,\n",
    "    \"max_virtual_memory_usage\": max_virtual_memory_usage,\n",
    "    \"total_non_virtual_memory_usage\": total_non_virtual_memory_usage,\n",
    "    \"max_non_virtual_memory_usage\": max_non_virtual_memory_usage,\n",
    "}"
   ]
  },
  {
   "cell_type": "markdown",
   "id": "74945109-884c-4fe2-977b-cef0804b010f",
   "metadata": {},
   "source": [
    "### Save the performance data to a json"
   ]
  },
  {
   "cell_type": "code",
   "execution_count": null,
   "id": "b4361d68-ae73-471f-bc9e-b446fe7bc800",
   "metadata": {},
   "outputs": [],
   "source": [
    "performance_json = save_performance_json(performance)"
   ]
  },
  {
   "cell_type": "code",
   "execution_count": null,
   "id": "fdb07242-1df7-44b5-81cb-41ad3e712e38",
   "metadata": {},
   "outputs": [],
   "source": []
  }
 ],
 "metadata": {
  "kernelspec": {
   "display_name": "Python 3 (ipykernel)",
   "language": "python",
   "name": "python3"
  },
  "language_info": {
   "codemirror_mode": {
    "name": "ipython",
    "version": 3
   },
   "file_extension": ".py",
   "mimetype": "text/x-python",
   "name": "python",
   "nbconvert_exporter": "python",
   "pygments_lexer": "ipython3",
   "version": "3.9.16"
  }
 },
 "nbformat": 4,
 "nbformat_minor": 5
}
