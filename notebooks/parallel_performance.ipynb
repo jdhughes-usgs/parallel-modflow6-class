{
 "cells": [
  {
   "cell_type": "code",
   "execution_count": null,
   "id": "de2773ce-5472-4869-b573-e52080f1fa39",
   "metadata": {},
   "outputs": [],
   "source": [
    "import numpy as np\n",
    "import matplotlib.pyplot as plt\n",
    "import pathlib as pl\n",
    "import flopy"
   ]
  },
  {
   "cell_type": "code",
   "execution_count": null,
   "id": "462fa534-f5a3-4d4c-bb7f-148518799442",
   "metadata": {},
   "outputs": [],
   "source": [
    "# import containerized functionality from defaults.py\n",
    "from defaults import *"
   ]
  },
  {
   "cell_type": "markdown",
   "id": "23fb0b50-c8bc-4688-aa88-82e7d9295f2b",
   "metadata": {},
   "source": [
    "### Parallel settings\n",
    "\n",
    "1. Set voronoi to `True` to evaluate performance of Voronoi grid base and parallel models. metis cannot be `True` if voronoi is `True`.\n",
    "2. Set metis to `True` to evaluate performance of structured grid base and parallel models split with Metis. voronoi cannot be `True` if metis is `True`."
   ]
  },
  {
   "cell_type": "code",
   "execution_count": null,
   "id": "be64295c-a41a-4afd-9dca-fde0d09361c0",
   "metadata": {},
   "outputs": [],
   "source": [
    "voronoi = False\n",
    "metis = True"
   ]
  },
  {
   "cell_type": "code",
   "execution_count": null,
   "id": "6c5772c6-c9bd-46b3-8442-b38ac0b7b8c6",
   "metadata": {},
   "outputs": [],
   "source": [
    "paths = get_available_workspaces(metis=metis, voronoi=voronoi)\n",
    "paths"
   ]
  },
  {
   "cell_type": "code",
   "execution_count": null,
   "id": "182c96af-e596-49bb-9a62-b11aa707f0aa",
   "metadata": {},
   "outputs": [],
   "source": [
    "processors = get_simulation_processors(metis=metis, voronoi=voronoi)\n",
    "processors"
   ]
  },
  {
   "cell_type": "code",
   "execution_count": null,
   "id": "49ac269c-7ca5-4850-a3dc-043972982aec",
   "metadata": {},
   "outputs": [],
   "source": [
    "mean_runtimes = []\n",
    "mean_formulatetimes = []\n",
    "mean_solutiontimes = []\n",
    "mean_iterations = []\n",
    "for path in paths:\n",
    "    list_files = get_simulation_listfiles(path)\n",
    "    mean_runtimes.append(np.mean([SimulationData(list_file).get_model_runtime() for list_file in list_files]))\n",
    "    mean_formulatetimes.append(np.mean([SimulationData(list_file).get_formulate_time() for list_file in list_files]))\n",
    "    mean_solutiontimes.append(np.mean([SimulationData(list_file).get_solution_time() for list_file in list_files]))\n",
    "    mean_iterations.append(np.mean([SimulationData(list_file).get_total_iterations() for list_file in list_files]))\n",
    "    "
   ]
  },
  {
   "cell_type": "code",
   "execution_count": null,
   "id": "8b512937-d687-4442-a1f1-94f6f21a1c86",
   "metadata": {},
   "outputs": [],
   "source": [
    "fig, axes = plt.subplots(nrows=2, ncols=2, figsize=(figwidth, figheight*0.9), constrained_layout=True, sharex=True)\n",
    "axes = axes.flatten()\n",
    "\n",
    "ax = axes[0]\n",
    "ax.plot(processors, mean_runtimes, lw=0.5, color=\"black\", marker=\"o\", ms=4, mfc=\"none\", mec=\"black\")\n",
    "ax.set_ylabel(\"Runtime (sec)\")\n",
    "\n",
    "ax = axes[1]\n",
    "ax.plot(processors, mean_iterations, lw=0.5, color=\"black\", marker=\"o\", ms=4, mfc=\"none\", mec=\"black\")\n",
    "ax.set_ylabel(\"Number of iterations\")\n",
    "\n",
    "ax = axes[2]\n",
    "ax.plot(processors, mean_formulatetimes, lw=0.5, color=\"black\", marker=\"o\", ms=4, mfc=\"none\", mec=\"black\")\n",
    "ax.set_xlabel(\"Number of CPUs\")\n",
    "ax.set_ylabel(\"Formulation time (sec)\")\n",
    "\n",
    "ax = axes[3]\n",
    "ax.plot(processors, mean_solutiontimes, lw=0.5, color=\"black\", marker=\"o\", ms=4, mfc=\"none\", mec=\"black\")\n",
    "ax.set_xlabel(\"Number of CPUs\")\n",
    "ax.set_ylabel(\"Solution time (sec)\");"
   ]
  },
  {
   "cell_type": "code",
   "execution_count": null,
   "id": "6333b35e-78d7-4dff-8bf8-97884532fbf8",
   "metadata": {},
   "outputs": [],
   "source": []
  }
 ],
 "metadata": {
  "kernelspec": {
   "display_name": "Python 3 (ipykernel)",
   "language": "python",
   "name": "python3"
  },
  "language_info": {
   "codemirror_mode": {
    "name": "ipython",
    "version": 3
   },
   "file_extension": ".py",
   "mimetype": "text/x-python",
   "name": "python",
   "nbconvert_exporter": "python",
   "pygments_lexer": "ipython3",
   "version": "3.9.16"
  }
 },
 "nbformat": 4,
 "nbformat_minor": 5
}
