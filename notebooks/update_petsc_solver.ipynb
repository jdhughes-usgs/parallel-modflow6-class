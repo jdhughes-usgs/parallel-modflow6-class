{
 "cells": [
  {
   "cell_type": "code",
   "execution_count": null,
   "id": "01f22b2e-ff8e-4f12-a7c5-e39950209fd5",
   "metadata": {},
   "outputs": [],
   "source": [
    "# import containerized functionality from defaults.py\n",
    "from defaults import *"
   ]
  },
  {
   "cell_type": "markdown",
   "id": "3c6d474e-28fc-4939-82c7-edba20bbe4a2",
   "metadata": {},
   "source": [
    "### Parallel settings\n",
    "\n",
    "1. Set voronoi to `True` to evaluate performance of Voronoi grid base and parallel models. metis cannot be `True` if voronoi is `True`.\n",
    "2. Set metis to `True` to evaluate performance of structured grid base and parallel models split with Metis. voronoi cannot be `True` if metis is `True`.\n",
    "3. Set use_gamg to `True` to use the Geometric Algebaic Multi-Grid parallel preconditioner. If use_gamg is `False`, the Block Jacobi parallel preconditioner will be used."
   ]
  },
  {
   "cell_type": "code",
   "execution_count": null,
   "id": "97a7c63e-a13d-4b4a-a204-5fa1a15b267b",
   "metadata": {},
   "outputs": [],
   "source": [
    "voronoi = False\n",
    "metis = True\n",
    "use_gamg = False"
   ]
  },
  {
   "cell_type": "code",
   "execution_count": null,
   "id": "3b9ef4cf-eae5-4c3e-936f-06400f35cc6b",
   "metadata": {},
   "outputs": [],
   "source": [
    "paths = get_available_workspaces(metis=metis, voronoi=voronoi)\n",
    "paths"
   ]
  },
  {
   "cell_type": "code",
   "execution_count": null,
   "id": "96322861-6747-473d-aa9b-e1bed563e8d4",
   "metadata": {},
   "outputs": [],
   "source": [
    "for path in paths:\n",
    "    write_petscdb(path, use_gamg=use_gamg)"
   ]
  }
 ],
 "metadata": {
  "kernelspec": {
   "display_name": "Python 3 (ipykernel)",
   "language": "python",
   "name": "python3"
  },
  "language_info": {
   "codemirror_mode": {
    "name": "ipython",
    "version": 3
   },
   "file_extension": ".py",
   "mimetype": "text/x-python",
   "name": "python",
   "nbconvert_exporter": "python",
   "pygments_lexer": "ipython3",
   "version": "3.9.16"
  }
 },
 "nbformat": 4,
 "nbformat_minor": 5
}
