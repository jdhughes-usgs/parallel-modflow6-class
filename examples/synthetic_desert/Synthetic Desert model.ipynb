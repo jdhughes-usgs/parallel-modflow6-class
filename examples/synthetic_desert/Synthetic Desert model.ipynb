{
 "cells": [
  {
   "cell_type": "markdown",
   "id": "c3f77936",
   "metadata": {},
   "source": [
    "# Synthetic Desert model MODFLOW 6\n",
    "\n",
    "This model is based on the Lucerne Valley Hydrologic Model in the Mojave Desert, California. The goal of this model is to create a simplified representation of \"pre-development\" watershed conditions within the basin. "
   ]
  },
  {
   "cell_type": "code",
   "execution_count": null,
   "id": "b6748973",
   "metadata": {},
   "outputs": [],
   "source": [
    "import flopy\n",
    "import numpy as np\n",
    "import pandas as pd\n",
    "import matplotlib.pyplot as plt\n",
    "import shapefile\n",
    "from pathlib import Path"
   ]
  },
  {
   "cell_type": "code",
   "execution_count": null,
   "id": "8dec2338",
   "metadata": {},
   "outputs": [],
   "source": [
    "data_path = Path(\".\")\n",
    "dem_data = data_path / \"lv_dem.tif\"\n",
    "grid_boundary = data_path / \"grid_boundary.shp\"\n",
    "study_area = data_path / \"study_area.shp\"\n",
    "faults = data_path / \"faults.shp\"\n",
    "hk_files = [data_path / f\"hk_{i}.txt\" for i in range(1, 5)]\n",
    "climate_file = data_path / \"victorville_cimis_monthly.csv\"\n",
    "lake_boundary = data_path / \"Lucerne_lake.shp\"\n",
    "recharge_boundary = data_path / \"recharge_area.shp\"\n"
   ]
  },
  {
   "cell_type": "markdown",
   "id": "7405edfa",
   "metadata": {},
   "source": [
    "## Set up the modflow 6 simulation and create a model object with FloPy\n",
    "\n",
    "The first step in creating a new modflow 6 simulation is to instantiate a `MFSimulation` object. Once the `MFSimulation` object is created, a time discretization package, a solver package, and model objects can be added to the simulation.\n",
    "\n",
    "In the block below create your simulation object, add a `ModflowTdis`, a `ModflowIms` and create a model object using `ModflowGwf`\n",
    "\n",
    "Use the data and variable names provided below:"
   ]
  },
  {
   "cell_type": "code",
   "execution_count": null,
   "id": "cac3a123",
   "metadata": {},
   "outputs": [],
   "source": [
    "time_record = [[365, 365, 1],]\n",
    "time_units = \"days\"\n",
    "complexity = \"COMPLEX\"\n",
    "model_name = \"synthetic_desert\"\n",
    "\n",
    "sim = flopy.mf6.MFSimulation(sim_ws=\"temp\")\n",
    "tdis = flopy.mf6.ModflowTdis(\n",
    "    sim,\n",
    "    time_units=time_units,\n",
    "    perioddata=time_record\n",
    ")\n",
    "ims = flopy.mf6.ModflowIms(\n",
    "    sim,\n",
    "    complexity=complexity\n",
    ")\n",
    "\n",
    "gwf = flopy.mf6.ModflowGwf(\n",
    "    sim,\n",
    "    modelname=model_name\n",
    ")"
   ]
  },
  {
   "cell_type": "markdown",
   "id": "82022c23",
   "metadata": {},
   "source": [
    "## Building a discretization package from raster and vector data:\n",
    "\n",
    "FloPy includes a utility class named `Raster`. The `Raster` class contains methods for resampling raster data to model grids, cropping rasters, sampling raster data values in a profile along a line, and sampling points.\n",
    "\n",
    "This example uses the FloPy raster class and a vector shapefile to create an intitial grid and finally a DIS package for modflow."
   ]
  },
  {
   "cell_type": "code",
   "execution_count": null,
   "id": "d8d567c6",
   "metadata": {},
   "outputs": [],
   "source": [
    "raster = flopy.utils.Raster.load(dem_data)\n",
    "# crop the area to your shapefile\n",
    "with shapefile.Reader(grid_boundary) as r:\n",
    "    grid_bound = r.shape(0)\n",
    "\n",
    "# inspect the raster and the grid boundary\n",
    "fig, ax = plt.subplots(figsize=(8, 8))\n",
    "raster.plot(ax=ax)\n",
    "xp, yp = list(zip(*grid_bound.points))\n",
    "plt.plot(xp, yp, \"r-\");"
   ]
  },
  {
   "cell_type": "markdown",
   "id": "692e0b4e",
   "metadata": {},
   "source": [
    "The raster can be cropped to the grid boundary using the `crop()` function. And then the model boundaries can be accessed using the `.bounds` attribute."
   ]
  },
  {
   "cell_type": "code",
   "execution_count": null,
   "id": "46faed23",
   "metadata": {},
   "outputs": [],
   "source": [
    "raster.crop(grid_bound)\n",
    "\n",
    "xmin, xmax, ymin, ymax = raster.bounds\n",
    "print(raster.bounds)"
   ]
  },
  {
   "cell_type": "markdown",
   "id": "50e77794",
   "metadata": {},
   "source": [
    "Now that the grid boundaries are known, an initial discretization can be generated.\n",
    "\n",
    "In the code block below define a `dx`, `dy` (cell size), calculate `nrow` and `ncol` from the model boundaries and the cell sizes, and finally create `delr` and `delc` arrays. The DIS package documentation can be found [here](https://modflow6.readthedocs.io/en/6.2.0/_mf6io/gwf-dis.html) for reference."
   ]
  },
  {
   "cell_type": "code",
   "execution_count": null,
   "id": "8823e7d0",
   "metadata": {},
   "outputs": [],
   "source": [
    "dx = dy = 150\n",
    "nlay = 4\n",
    "\n",
    "xll = xmin\n",
    "yll = ymin\n",
    "nrow = int(np.floor((ymax - ymin) / dy))\n",
    "ncol = int(np.floor((xmax - xmin) / dx))\n",
    "\n",
    "delr = np.ones(ncol) * dx\n",
    "delc = np.ones(nrow) * dy"
   ]
  },
  {
   "cell_type": "markdown",
   "id": "dfdf3d67",
   "metadata": {},
   "source": [
    "### Creating an initial model grid instance\n",
    "\n",
    "In the block below, create an initial model grid instance (it'll get deleted later). This model grid will be used to resample the DEM data to get the top array for the model and to intersect a shapefile that defines the active part of the model grid.\n",
    "\n",
    "For a full representation of a model grid the following parameters are needed:\n",
    "\n",
    "   - `delc`: row spacing in the column direction\n",
    "   - `delr`: column spacing in the row direction\n",
    "   - `top`: the model's top array. For the temporary grid any elevation can be provided as a 2d array of (nrow, ncol)\n",
    "   - `botm`: the model's grid cell botm elevations. For the temporary grid this can be faked, but needs to be a 3d array with the dimensions (nlay, nrow, ncol)\n",
    "   - `idomain`: the model's active and inactive extent. This can also be faked for the temporary grid. It'll be calculated later\n",
    "   - `xoff`: the lower left corner of the model grid's x coordinate\n",
    "   - `yoff`: the lower left corner of the model grid's y coordinate\n",
    "   \n",
    "Build a temporary model grid, called `temp_grid` in the block below. `flopy.discretization.StructuredGrid()` is used to create structured model grids."
   ]
  },
  {
   "cell_type": "code",
   "execution_count": null,
   "id": "8feab241",
   "metadata": {},
   "outputs": [],
   "source": [
    "# create a temporary model grid object for resampling, intersections, and performing spatial analysis\n",
    "top = np.full((nrow, ncol), 100.)\n",
    "botm = np.zeros((nlay, nrow, ncol))\n",
    "botm[0] = top - 50\n",
    "for i in range(1, len(botm)):\n",
    "    botm[i] = botm[i -  1] - 50\n",
    "\n",
    "temp_grid = flopy.discretization.StructuredGrid(\n",
    "    delc=delc,\n",
    "    delr=delr,\n",
    "    top=top,\n",
    "    botm=botm,\n",
    "    idomain= np.ones((nlay, nrow, ncol), dtype=int),\n",
    "    xoff=xll,\n",
    "    yoff=yll\n",
    ")\n",
    "\n",
    "f\"nrow={temp_grid.nrow}, ncol={temp_grid.ncol}\"\n",
    "temp_grid"
   ]
  },
  {
   "cell_type": "markdown",
   "id": "8e40a2c2",
   "metadata": {},
   "source": [
    "### Intersecting vector data with a modelgrid\n",
    "\n",
    "The `GridIntersect` utility class allows users to intersect vector data (shapefile) with modelgrids and will return information about the intersection. In this example the study area boundary is intersected with the modelgrid instance that was created in the previous block to create an `idomain` array for the model."
   ]
  },
  {
   "cell_type": "code",
   "execution_count": null,
   "id": "a6da5f1f",
   "metadata": {},
   "outputs": [],
   "source": [
    "with shapefile.Reader(study_area) as r:\n",
    "    aoi = r.shape(0)\n",
    "\n",
    "\n",
    "# intersect and get the active cell id's\n",
    "gix = flopy.utils.GridIntersect(temp_grid, method=\"structured\")\n",
    "# get active cells\n",
    "result = gix.intersect(aoi, contains_centroid=True)\n",
    "active_cellids = result.cellids\n",
    "active_idx = list(zip(*active_cellids))\n",
    "active_idx.insert(0, tuple([0] * len(active_cellids)))"
   ]
  },
  {
   "cell_type": "markdown",
   "id": "e9d6e836",
   "metadata": {},
   "source": [
    "Create an idomain array and then visualize it using FloPy's PlotMapView."
   ]
  },
  {
   "cell_type": "code",
   "execution_count": null,
   "id": "a082cd52",
   "metadata": {},
   "outputs": [],
   "source": [
    "idomain = np.zeros(temp_grid.shape, dtype=int)\n",
    "idomain[tuple(active_idx)] = 1 \n",
    "for lay in range(1, 4):\n",
    "    idomain[lay] = idomain[0]"
   ]
  },
  {
   "cell_type": "code",
   "execution_count": null,
   "id": "b60a626c",
   "metadata": {},
   "outputs": [],
   "source": [
    "fig, ax = plt.subplots(figsize=(8, 8))\n",
    "\n",
    "pmv = flopy.plot.PlotMapView(modelgrid=temp_grid)\n",
    "pmv.plot_array(idomain);"
   ]
  },
  {
   "cell_type": "markdown",
   "id": "a6e6b235",
   "metadata": {},
   "source": [
    "### Resampling raster data\n",
    "\n",
    "The `Raster` class has a `resample_to_grid()` method that allows the user to resample raster data a model grid and/or perform geostatics on rasters. \n",
    "\n",
    "There are three parameters that can be supplied to `resample_to_grid()`:\n",
    "   - `modelgrid`: a flopy.discretization.Grid instance\n",
    "   - `band`: the raster band to sample\n",
    "   - `method`: resampling method (more information about the methods can be found [here](https://flopy.readthedocs.io/en/latest/Notebooks/raster_intersection_example.html)"
   ]
  },
  {
   "cell_type": "code",
   "execution_count": null,
   "id": "535fd1a9",
   "metadata": {},
   "outputs": [],
   "source": [
    "# now we can create our dis file...\n",
    "top = raster.resample_to_grid(temp_grid, band=raster.bands[0])\n",
    "top[top == raster.nodatavals[0]] = 1324\n",
    "botm = np.zeros((nlay, nrow, ncol))\n",
    "botm[0] = top - 100\n",
    "for i in range(1, len(botm)):\n",
    "    botm[i] = botm[i -  1] - 100"
   ]
  },
  {
   "cell_type": "markdown",
   "id": "fdbb0486",
   "metadata": {},
   "source": [
    "### Create a DIS package\n",
    "\n",
    "The `flopy.mf6.ModflowGwfdis()` package is used to create a structured rectalinier discretization package in FloPy. The preprocessing that has been done in the prior cells can be used to create this object. Parameters include:\n",
    "\n",
    "   - `gwf`: the flopy model instance\n",
    "   - `length_units`: the model length units\n",
    "   - `xorigin`: the lower left corner x-coordinate\n",
    "   - `yorigin`: the lower left corner y-coordinate\n",
    "   - `nlay`: number of model layers\n",
    "   - `nrow`: number of model rows\n",
    "   - `ncol`: number of model columns\n",
    "   - `delc`: row spacing in the column direction\n",
    "   - `delr`: column spacing in the row direction\n",
    "   - `top`: the model's top array. \n",
    "   - `botm`: the model's grid cell botm elevations.\n",
    "   - `idomain`: the model's active and inactive extent.\n",
    "   \n",
    "Build a `flopy.mf6.ModflowGwfdis()` object"
   ]
  },
  {
   "cell_type": "code",
   "execution_count": null,
   "id": "adbdd61b",
   "metadata": {},
   "outputs": [],
   "source": [
    "length_units = \"meters\"\n",
    "\n",
    "dis = flopy.mf6.ModflowGwfdis(\n",
    "    gwf,\n",
    "    length_units=\"meters\",\n",
    "    xorigin=xll,\n",
    "    yorigin=yll,\n",
    "    nlay=nlay,\n",
    "    nrow=nrow,\n",
    "    ncol=ncol,\n",
    "    delr=delr,\n",
    "    delc=delc,\n",
    "    top=top,\n",
    "    botm=botm,\n",
    "    idomain=idomain\n",
    ")"
   ]
  },
  {
   "cell_type": "code",
   "execution_count": null,
   "id": "fed519d4",
   "metadata": {},
   "outputs": [],
   "source": [
    "# remove the temporary model grid instance...\n",
    "del temp_grid\n",
    "# and get a copy of the actual model grid instance\n",
    "modelgrid = gwf.modelgrid"
   ]
  },
  {
   "cell_type": "markdown",
   "id": "0234ca35",
   "metadata": {},
   "source": [
    "### Making a NPF file\n",
    "\n",
    "Your friendly coworker is an expert at interpolation and at GIS. They volunteered to do the hard work of analysing drillers logs and creating hydraulic conductivity fields, so you can focus on updating FloPy and MODFLOW 6 Docstrings. \n",
    "\n",
    "The original model specs were for a 150 m by 150 m grid, so your coworker sampled created the horizontal conductivity arrays at that discretization. It's likely that the model is not discretized at that discretization anymore. Instead of sending the data back and having your coworker resample it, you decide to resample the array yourself with a handy little function that uses scipy's `griddata` method. Most of the method is complete, but you will need to make a fake model grid to get the cell centers for the conductivity arrays.\n"
   ]
  },
  {
   "cell_type": "code",
   "execution_count": null,
   "id": "914693b1",
   "metadata": {},
   "outputs": [],
   "source": [
    "def resample_array(modelgrid, raster_extent, array):\n",
    "    import scipy.interpolate \n",
    "    \n",
    "    xmin, xmax, ymin, ymax = raster_extent\n",
    "    dx = dy = 150\n",
    "    \n",
    "    # make a fake grid here called \"fake_grid\". \n",
    "    # you'll need to define delc, delr, xoff, yoff, top, and botm\n",
    "    nrow = int(np.floor((ymax - ymin) / dy))\n",
    "    ncol = int(np.floor((xmax - xmin) / dx))\n",
    "\n",
    "    delr = np.ones(ncol) * dx\n",
    "    delc = np.ones(nrow) * dy\n",
    "\n",
    "    fake_grid = flopy.discretization.StructuredGrid(\n",
    "        delc=delc,\n",
    "        delr=delr,\n",
    "        xoff=xmin,\n",
    "        yoff=ymin,\n",
    "        top=modelgrid.top,\n",
    "        botm=modelgrid.botm\n",
    "    )\n",
    "    \n",
    "    rxc, ryc = fake_grid.xcellcenters.ravel(), fake_grid.ycellcenters.ravel()\n",
    "    array = array.ravel()\n",
    "    xc, yc = modelgrid.xcellcenters.ravel(), modelgrid.ycellcenters.ravel()\n",
    "    \n",
    "    resampled_array = scipy.interpolate.griddata((rxc, ryc), array, (xc, yc), method=\"nearest\")\n",
    "    resampled_array[np.isnan(resampled_array)] = 0.10\n",
    "    resampled_array *= 0.3048\n",
    "    return resampled_array.reshape((modelgrid.nrow, modelgrid.ncol))\n",
    "    "
   ]
  },
  {
   "cell_type": "markdown",
   "id": "a507a2c7",
   "metadata": {},
   "source": [
    "#### Build the node property flow package using `flopy.mf6.ModflowGwfnpf()`.\n",
    "\n",
    "Four parameters are needed to build the node property flow package:\n",
    "   - `gwf`: the flopy model object\n",
    "   - `icelltype`: an array that defines if cells are confined or convertable. For this example, set all cells to confined storage\n",
    "   - `k`: a horizontal conductivity array\n",
    "   - `k22`: a vertical conductivity array. vk is unkown for this example however you could calculate a vk array using a vertical anisotropy factor...\n",
    "   "
   ]
  },
  {
   "cell_type": "code",
   "execution_count": null,
   "id": "f170a689",
   "metadata": {},
   "outputs": [],
   "source": [
    "# Load up the HK values into a three dimensional array\n",
    "hk_array = np.full(modelgrid.shape, 1e-10)\n",
    "for ix, file in enumerate(hk_files):\n",
    "    hk = np.genfromtxt(file,)\n",
    "    hk =  resample_array(modelgrid, raster.bounds, hk)\n",
    "    hk_array[ix] = hk \n",
    "    \n",
    "vk_array = hk_array * 0.01\n",
    "icelltype = np.zeros(modelgrid.shape, dtype=int)\n",
    "\n",
    "npf = flopy.mf6.ModflowGwfnpf(\n",
    "    gwf,\n",
    "    icelltype=icelltype,\n",
    "    k=hk_array,\n",
    "    k22=vk_array\n",
    ")\n"
   ]
  },
  {
   "cell_type": "markdown",
   "id": "caac4425",
   "metadata": {},
   "source": [
    "## Initial Conditions\n",
    "\n",
    "The basin initial condition is not well known, however we do know that there is limited exchange between the upper aquifer and the middle aquifer because of a lacustrine clay layer that acts as an aquitard between the two of them. For this model the intitial condition is set to the highest active elevation in the model."
   ]
  },
  {
   "cell_type": "code",
   "execution_count": null,
   "id": "0dbc0fe6",
   "metadata": {},
   "outputs": [],
   "source": [
    "ic = flopy.mf6.ModflowGwfic(\n",
    "    gwf,\n",
    "    strt=1324\n",
    ")"
   ]
  },
  {
   "cell_type": "markdown",
   "id": "8db4c953",
   "metadata": {},
   "source": [
    "## Evapotranspiration from a historical lake bed. \n",
    "\n",
    "USGS records from Mendenhall (1909) and Thompson (1929) describe a limited amount of natural discharge from the basin from a few springs in the western part of the basin and by evapotranspiration of phreatophytes near the dry Lucerne Lake bed (playa). Near the southwest part of the lake bed cottonwood trees were observed. Sparse pheatophytic vegetation was also observed in other parts of the area.\n",
    "\n",
    "Phreatophytes in the Mojave deset can grow extremely long tap roots and have large root systems. Mesquite trees have the longest tap roots that can be up to 25 meters deep in some cases. Other phreatophytes have shorter tap roots. For example, the creasote bush has a tap root that extends to a depth of about 1 meter, and cottonwood trees can have tap roots that extend to a depth of about 5 meters. \n"
   ]
  },
  {
   "cell_type": "code",
   "execution_count": null,
   "id": "8bbf61a8",
   "metadata": {},
   "outputs": [],
   "source": [
    "with shapefile.Reader(lake_boundary) as r:\n",
    "    poly = r.shape(0)\n",
    "\n",
    "df = pd.read_csv(climate_file)\n",
    "df[\"year\"] = df[\"Month Year\"].apply(lambda x: x.split(\"-\")[0])\n",
    "df = df.groupby(by=[\"year\"], as_index=False)[\"Total ETo (mm)\"].sum()\n",
    "eto = df[\"Total ETo (mm)\"].mean() / (1000 * 365.25)\n",
    "print(eto)"
   ]
  },
  {
   "cell_type": "markdown",
   "id": "57db865e",
   "metadata": {},
   "source": [
    "Use `flopy.utils.GridIntersect` to intersect Lucerne Lake with the modelgrid and identify which model cells to simulate evapotranspiration from. \n",
    "\n",
    "The process is similar to what was done to identify the active model extent earlier in the notebook."
   ]
  },
  {
   "cell_type": "code",
   "execution_count": null,
   "id": "46f78b8d",
   "metadata": {},
   "outputs": [],
   "source": [
    "ix = flopy.utils.GridIntersect(modelgrid)\n",
    "result = ix.intersect(poly)\n",
    "cellids = result.cellids\n",
    "cellid_ix = [tuple([0,] * len(cellids))] + list(zip(*cellids))\n",
    "rc_ix = tuple(zip(*cellids))\n",
    "cellids = list(zip(*cellid_ix))\n",
    "\n",
    "\n",
    "surface = modelgrid.top[rc_ix]\n",
    "depth = np.full(surface.shape, 5)"
   ]
  },
  {
   "cell_type": "markdown",
   "id": "254a7c18",
   "metadata": {},
   "source": [
    "Using the cellids, create an evapotranspiration package. Remember to check if each cellid is within the active model extent as you build your evapotranspiration data records.\n",
    "\n",
    "The `flopy.mf6.ModflowGwfevt()` class is used to build an EVT6 package. The class documentation can be found [here](https://flopy.readthedocs.io/en/latest/source/flopy.mf6.modflow.mfgwfevt.html). The necessary parameters are:\n",
    "   - `model`\n",
    "   - `maxbound`\n",
    "   - `nseg`: this should be 1\n",
    "   - `stress_period_data`: records of (cellid, surface, et_rate, et_depth, pxdp)"
   ]
  },
  {
   "cell_type": "code",
   "execution_count": null,
   "id": "1dc401ff",
   "metadata": {},
   "outputs": [],
   "source": [
    "rec = []\n",
    "for ix, cellid in enumerate(cellids):\n",
    "    if modelgrid.idomain[cellid[0], cellid[1], cellid[2]]:\n",
    "        rec.append((cellid, surface[ix], eto, depth[ix], 1.0))\n",
    "\n",
    "evt = flopy.mf6.ModflowGwfevt(\n",
    "    gwf,\n",
    "    maxbound=len(rec),\n",
    "    nseg=1,\n",
    "    stress_period_data={0: rec}\n",
    ")\n"
   ]
  },
  {
   "cell_type": "markdown",
   "id": "c14082b2",
   "metadata": {},
   "source": [
    "## Simulating Recharge in the model\n",
    "\n",
    "The Lucerne Valley is located in the Mojave desert and recieves very little precipitation on the valley floor. Most of the recharge to this basin comes from snowmelt in the San Bernardino mountains to the south. Recharge estimates from the Basin Characterization Model (Flint et. al., 2013) estimate about 680 acre-ft of recharge to the basin.\n",
    "\n",
    "A recharge zone has been mapped out by your friendly colleague that knows GIS. He got tired of working on code documentation and did this to help you out. When you inspect the shapefile you see that they got a little sloppy with tracing and 20% of the recharge area outside of the model boundaries.\n",
    "\n",
    "With this information, a recharge package can be built for the model."
   ]
  },
  {
   "cell_type": "code",
   "execution_count": null,
   "id": "a67a37ab",
   "metadata": {},
   "outputs": [],
   "source": [
    "conv = 1233.48 # m3 per acre-ft\n",
    "\n",
    "with shapefile.Reader(recharge_boundary) as r:\n",
    "    poly = r.shape(0)\n",
    "\n",
    "recharge = 680 * 1.2 * conv / 365.25 # convert to m3/day and adjust by 1.2 for bad boundaries"
   ]
  },
  {
   "cell_type": "markdown",
   "id": "1b656454",
   "metadata": {},
   "source": [
    "Using `GridIntersect` identify the recharge cells and build a recharge package using `flopy.mf6.ModflowGwfrch()`.  The class documentation can be found [here](https://flopy.readthedocs.io/en/latest/source/flopy.mf6.modflow.mfgwfrch.html). The necessary parameters are:\n",
    "   - `model`\n",
    "   - `maxbound`\n",
    "   - `stress_period_data`: records of (cellid, recharge_rate)"
   ]
  },
  {
   "cell_type": "code",
   "execution_count": null,
   "id": "201e47a2",
   "metadata": {},
   "outputs": [],
   "source": [
    "ix = flopy.utils.GridIntersect(modelgrid)\n",
    "result = ix.intersect(poly)\n",
    "cellids = result.cellids\n",
    "\n",
    "recharge /= len(cellids)\n",
    "recharge /= (dx * dy)\n",
    "print(recharge)\n",
    "rec = []\n",
    "for cellid in cellids:\n",
    "    if modelgrid.idomain[0, cellid[0], cellid[1]]:\n",
    "        rec.append(((0, cellid[0], cellid[1]), recharge))\n",
    "\n",
    "rch = flopy.mf6.ModflowGwfrch(\n",
    "    gwf,\n",
    "    maxbound=len(rec),\n",
    "    stress_period_data={0: rec,}\n",
    ")"
   ]
  },
  {
   "cell_type": "markdown",
   "id": "21d28ecd",
   "metadata": {},
   "source": [
    "## Simulating model boundaries\n",
    "\n",
    "Lucerne Valley is bounded on most sides by faults. The western part of the basin is bounded by the Helendale Fault system that runs southest to northwest and seperates the groundwater basin from the greater Mojave basin. In the north an unnamed fault runs east-west from the Granite mountains to the Ord mountains. In the southeast the Cougar Buttes Fault runs in a  southeast to northwest direction and separates the basin from the adjacent Johnson Valley aquifer system. \n",
    "\n",
    "These faults have very low estimated conductivity. The Helendale fault and the unnamed northern fault conductivity is estimated to be around 1e-6. The Cougar Buttes fault provides slightly more exchange and has a conductivity between 1e-6 and 1e-5.\n",
    "\n",
    "Heads across these faults are also higher than those in Lucerne Valley. Head on the west side of the Helendale fault is around 2900 ft asl, north of the unnamed fault is about 2890 ft asl and on the east side of the Cougar Buttes fault is about 2870 ft asl. "
   ]
  },
  {
   "cell_type": "code",
   "execution_count": null,
   "id": "d8e4f4ce",
   "metadata": {},
   "outputs": [],
   "source": [
    "fault_dict = {}\n",
    "with shapefile.Reader(faults) as r:\n",
    "    for ix, shape in enumerate(r.shapes()):\n",
    "        record = r.record(ix)\n",
    "        fault_dict[record.fault_name] = shape\n",
    "\n",
    "# tag each fault with it's associated data...\n",
    "\n",
    "fault_cells = {}\n",
    "for fault_name, shape in fault_dict.items():\n",
    "    ix = flopy.utils.GridIntersect(modelgrid)\n",
    "    result = ix.intersect(shape, return_all_intersections=True)\n",
    "    fault_cells[fault_name] = list(result.cellids)\n",
    "\n",
    "print(fault_cells.keys())"
   ]
  },
  {
   "cell_type": "markdown",
   "id": "d1540e5a",
   "metadata": {},
   "source": [
    "Using the `fault_cells` dictionary, build a general head boundary condition package to represent faults on the edges of the model with `flopy.mf6.ModflowGwfghb()`. See the previous text block for the head elevations and conductance of each of the faults. \n",
    "\n",
    "Documentation for the `flopy.mf6.ModflowGwfghb()` class can be found [here](https://flopy.readthedocs.io/en/latest/source/flopy.mf6.modflow.mfgwfghb.html). Necessary input parameters are: \n",
    "   - `model`:\n",
    "   - `stress_period_data`: records of (cellid, boundary_head, conductance)"
   ]
  },
  {
   "cell_type": "code",
   "execution_count": null,
   "id": "c07d87c7",
   "metadata": {},
   "outputs": [],
   "source": [
    "# build the GHB package\n",
    "rec = []\n",
    "for fault_name, cellid in fault_cells.items():\n",
    "    for layer in range(modelgrid.nlay):\n",
    "        for cid in cellid:\n",
    "            cond = 1e-06 * (100 * dx)\n",
    "            if fault_name == \"helendale\":\n",
    "                bhead = 2890 * 0.3048\n",
    "            elif fault_name == \"north\":\n",
    "                bhead = 2850 * 0.3048\n",
    "            else:\n",
    "                cond = 5e-5 * (100 * dx)\n",
    "                bhead = 2870 * 0.3048\n",
    "            if idomain[0, cid[0], cid[1]] > 0:\n",
    "                rec.append(((layer, cid[0], cid[1]), bhead, cond))\n",
    "\n",
    "ghb = flopy.mf6.ModflowGwfghb(\n",
    "    gwf,\n",
    "    stress_period_data={0: rec}\n",
    ")\n"
   ]
  },
  {
   "cell_type": "markdown",
   "id": "1e6c0b72",
   "metadata": {},
   "source": [
    "## Create an output control package"
   ]
  },
  {
   "cell_type": "code",
   "execution_count": null,
   "id": "be127f29",
   "metadata": {},
   "outputs": [],
   "source": [
    "oc = flopy.mf6.ModflowGwfoc(\n",
    "    gwf,\n",
    "    saverecord=[(\"HEAD\", \"ALL\")],\n",
    "    head_filerecord=\"synthetic_desert.hds\"\n",
    "    \n",
    ")"
   ]
  },
  {
   "cell_type": "markdown",
   "id": "f823bc4f",
   "metadata": {},
   "source": [
    "## Write the simulation to file and run the simulation"
   ]
  },
  {
   "cell_type": "code",
   "execution_count": null,
   "id": "46352ab2",
   "metadata": {},
   "outputs": [],
   "source": [
    "sim.write_simulation()\n",
    "sim.run_simulation()"
   ]
  },
  {
   "cell_type": "markdown",
   "id": "645e1137",
   "metadata": {},
   "source": [
    "## Load head results and plot\n",
    "\n",
    "FloPy for modflow-6 has a `.output` attribute on the model object and many of the package objects. The `.output` attribute allows users to easily get head and budget information."
   ]
  },
  {
   "cell_type": "code",
   "execution_count": null,
   "id": "6bef5558",
   "metadata": {},
   "outputs": [],
   "source": [
    "head_obj = gwf.output.head()\n",
    "heads = head_obj.get_alldata()[-1]"
   ]
  },
  {
   "cell_type": "markdown",
   "id": "69a015e1",
   "metadata": {},
   "source": [
    "### Plot the head results\n",
    "\n",
    "FloPy includes plotting utilities that allow users to easily plot model data. `PlotMapView` can be used to plot arrays, shapefile data, discharge vectors, and boundary conditions. \n",
    "\n",
    "An example tutorial on `PlotMapView` can be found [here](https://flopy.readthedocs.io/en/latest/Notebooks/plot_map_view_example.html). Plot up the head results and the inactive area of the model grid."
   ]
  },
  {
   "cell_type": "code",
   "execution_count": null,
   "id": "c5e5c8f9",
   "metadata": {},
   "outputs": [],
   "source": [
    "fig, ax = plt.subplots(figsize=(8, 8))\n",
    "pmv = flopy.plot.PlotMapView(modelgrid=modelgrid, ax=ax, layer=0)\n",
    "\n",
    "pc = pmv.plot_array(heads, masked_values=[1e+30])\n",
    "ib = pmv.plot_inactive()\n",
    "plt.colorbar(pc, shrink=0.8)\n",
    "plt.show()\n",
    "heads[heads == 1e+30] = np.nan"
   ]
  },
  {
   "cell_type": "code",
   "execution_count": null,
   "id": "debbff9e",
   "metadata": {},
   "outputs": [],
   "source": []
  }
 ],
 "metadata": {
  "kernelspec": {
   "display_name": "Python 3 (ipykernel)",
   "language": "python",
   "name": "python3"
  },
  "language_info": {
   "codemirror_mode": {
    "name": "ipython",
    "version": 3
   },
   "file_extension": ".py",
   "mimetype": "text/x-python",
   "name": "python",
   "nbconvert_exporter": "python",
   "pygments_lexer": "ipython3",
   "version": "3.9.12"
  }
 },
 "nbformat": 4,
 "nbformat_minor": 5
}
