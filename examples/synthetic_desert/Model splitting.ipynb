{
 "cells": [
  {
   "cell_type": "markdown",
   "id": "1779f695",
   "metadata": {},
   "source": [
    "# Model splitting for parallel and serial MODFLOW 6\n",
    "\n",
    "The model splitting functionality for MODFLOW 6 is shown in this notebook. Model splitting via the `Mf6Splitter()` class can be performed on groundwater flow models as well as combined groundwater flow and transport models. The `Mf6Splitter()` class maps a model's connectivity and then builds new models, with exchanges and movers between the new models, based on a user defined array of model numbers.\n",
    "\n",
    "The `Mf6Splitter()` class supports Structured, Vertex, and Unstructured Grid models."
   ]
  },
  {
   "cell_type": "code",
   "execution_count": null,
   "id": "608015ad",
   "metadata": {},
   "outputs": [],
   "source": [
    "import flopy\n",
    "import matplotlib.pyplot as plt\n",
    "import numpy as np\n",
    "import os\n",
    "from pathlib import Path\n",
    "from flopy.mf6.utils import Mf6Splitter\n",
    "from flopy.plot import styles"
   ]
  },
  {
   "cell_type": "markdown",
   "id": "fc051318",
   "metadata": {},
   "source": [
    "## Example 1: splitting a simple structured grid model\n",
    "\n",
    "This example shows the basics of using the `Mf6Splitter()` class and applies the method to the Freyberg (1988) model."
   ]
  },
  {
   "cell_type": "code",
   "execution_count": null,
   "id": "13f6b665",
   "metadata": {},
   "outputs": [],
   "source": [
    "simulation_ws = Path(\"../mf6-freyberg\")"
   ]
  },
  {
   "cell_type": "markdown",
   "id": "0543c6e4",
   "metadata": {},
   "source": [
    "Load the simulation"
   ]
  },
  {
   "cell_type": "code",
   "execution_count": null,
   "id": "aed9ba06",
   "metadata": {},
   "outputs": [],
   "source": [
    "sim = flopy.mf6.MFSimulation.load(sim_ws=simulation_ws)"
   ]
  },
  {
   "cell_type": "markdown",
   "id": "e85ae2b9",
   "metadata": {},
   "source": [
    "Change the working directory, write input files, and run the simulation"
   ]
  },
  {
   "cell_type": "code",
   "execution_count": null,
   "id": "72bf5ea2",
   "metadata": {},
   "outputs": [],
   "source": [
    "workspace = Path(\"../freyberg_temp\")\n",
    "sim.set_sim_path(workspace)\n",
    "sim.write_simulation()\n",
    "success, buff = sim.run_simulation(silent=False)\n"
   ]
  },
  {
   "cell_type": "markdown",
   "id": "375a7074",
   "metadata": {},
   "source": [
    "Visualize the head results and boundary conditions from this model."
   ]
  },
  {
   "cell_type": "code",
   "execution_count": null,
   "id": "26b10a8a",
   "metadata": {},
   "outputs": [],
   "source": [
    "gwf = sim.get_model()\n",
    "head = gwf.output.head().get_alldata()[-1]"
   ]
  },
  {
   "cell_type": "code",
   "execution_count": null,
   "id": "9d530498",
   "metadata": {},
   "outputs": [],
   "source": [
    "fig, ax = plt.subplots(figsize=(5, 7))\n",
    "pmv = flopy.plot.PlotMapView(gwf, ax=ax)\n",
    "heads = gwf.output.head().get_alldata()[-1]\n",
    "heads = np.where(heads == 1e30, np.nan, heads)\n",
    "vmin = np.nanmin(heads)\n",
    "vmax = np.nanmax(heads)\n",
    "pc = pmv.plot_array(heads, vmin=vmin, vmax=vmax)\n",
    "pmv.plot_bc(\"WEL\")\n",
    "pmv.plot_bc(\"RIV\", color=\"c\")\n",
    "pmv.plot_bc(\"CHD\")\n",
    "pmv.plot_grid()\n",
    "pmv.plot_ibound()\n",
    "plt.colorbar(pc);"
   ]
  },
  {
   "cell_type": "markdown",
   "id": "3dde1911",
   "metadata": {},
   "source": [
    "### Creating an array that defines the new models\n",
    "\n",
    "In order to split models, the model domain must be discretized using unique model numbers. Any number of models can be created, however all of the cells within each model must be contiguous.\n",
    "\n",
    "The `Mf6Splitter()` class accept arrays that are equal in size to the number of cells per layer (`StructuredGrid` and `VertexGrid`) or the number of model nodes (`UnstructuredGrid`).\n",
    "\n",
    "In this example, the model is split diagonally into two model domains."
   ]
  },
  {
   "cell_type": "code",
   "execution_count": null,
   "id": "2f947598",
   "metadata": {},
   "outputs": [],
   "source": [
    "modelgrid = gwf.modelgrid"
   ]
  },
  {
   "cell_type": "code",
   "execution_count": null,
   "id": "2744935b",
   "metadata": {},
   "outputs": [],
   "source": [
    "array = np.ones((modelgrid.nrow, modelgrid.ncol), dtype=int)\n",
    "ncol = 1\n",
    "for row in range(modelgrid.nrow):\n",
    "    if row != 0 and row % 2 == 0:\n",
    "        ncol += 1\n",
    "    array[row, ncol:] = 2"
   ]
  },
  {
   "cell_type": "markdown",
   "id": "abef251f",
   "metadata": {},
   "source": [
    "Plot the two domains that the model will be split into"
   ]
  },
  {
   "cell_type": "code",
   "execution_count": null,
   "id": "0566cda9",
   "metadata": {},
   "outputs": [],
   "source": [
    "fig, ax = plt.subplots(figsize=(5, 7))\n",
    "pmv = flopy.plot.PlotMapView(gwf, ax=ax)\n",
    "pc = pmv.plot_array(array)\n",
    "lc = pmv.plot_grid()\n",
    "plt.colorbar(pc)\n",
    "plt.show()"
   ]
  },
  {
   "cell_type": "markdown",
   "id": "805564e6",
   "metadata": {},
   "source": [
    "### Splitting the model using `Mf6Splitter()`\n",
    "\n",
    "The `Mf6Splitter()` class accepts one required parameter and one optional parameter. These parameters are:\n",
    "   - `sim`: A flopy.mf6.MFSimulation object\n",
    "   - `modelname`: optional, the name of the model being split. If omitted Mf6Splitter grabs the first groundwater flow model listed in the simulation"
   ]
  },
  {
   "cell_type": "code",
   "execution_count": null,
   "id": "c9b0ef6a",
   "metadata": {},
   "outputs": [],
   "source": [
    "mfsplit = Mf6Splitter(sim)"
   ]
  },
  {
   "cell_type": "markdown",
   "id": "7d389653",
   "metadata": {},
   "source": [
    "The model splitting is then performed by calling the `split_model()` function. `split_model()` accepts an array that is either the same size as the number of cells per layer (`StructuredGrid` and `VertexGrid`) model or the number of nodes in the model (`UnstructuredGrid`).\n",
    "\n",
    "This function returns a new `MFSimulation` object that contains the split models and exchanges between them"
   ]
  },
  {
   "cell_type": "code",
   "execution_count": null,
   "id": "ab87fd55",
   "metadata": {},
   "outputs": [],
   "source": [
    "new_sim = mfsplit.split_model(array)"
   ]
  },
  {
   "cell_type": "code",
   "execution_count": null,
   "id": "e3a04a82",
   "metadata": {},
   "outputs": [],
   "source": [
    "# now to write and run the simulation\n",
    "new_sim.set_sim_path(workspace / \"split_model\")\n",
    "new_sim.write_simulation()\n",
    "success, buff = new_sim.run_simulation(silent=False)"
   ]
  },
  {
   "cell_type": "markdown",
   "id": "d67a92ef",
   "metadata": {},
   "source": [
    "### Visualize and reassemble model output\n",
    "\n",
    "Both models are visualized side by side"
   ]
  },
  {
   "cell_type": "code",
   "execution_count": null,
   "id": "aee1df5c",
   "metadata": {},
   "outputs": [],
   "source": [
    "# visualizing both models side by side\n",
    "ml0 = new_sim.get_model(\"freyberg_1\")\n",
    "ml1 = new_sim.get_model(\"freyberg_2\")"
   ]
  },
  {
   "cell_type": "code",
   "execution_count": null,
   "id": "3a8f0a53",
   "metadata": {},
   "outputs": [],
   "source": [
    "heads0 = ml0.output.head().get_alldata()[-1]\n",
    "heads1 = ml1.output.head().get_alldata()[-1]"
   ]
  },
  {
   "cell_type": "code",
   "execution_count": null,
   "id": "fcccbecb",
   "metadata": {},
   "outputs": [],
   "source": [
    "fig, (ax0, ax1) = plt.subplots(1, 2, figsize=(12, 7))\n",
    "pmv = flopy.plot.PlotMapView(ml0, ax=ax0)\n",
    "pmv.plot_array(heads0, vmin=vmin, vmax=vmax)\n",
    "pmv.plot_ibound()\n",
    "pmv.plot_grid()\n",
    "pmv.plot_bc(\"WEL\")\n",
    "pmv.plot_bc(\"RIV\", color=\"c\")\n",
    "pmv.plot_bc(\"CHD\")\n",
    "ax0.set_title(\"Model 0\")\n",
    "\n",
    "pmv = flopy.plot.PlotMapView(ml1, ax=ax1)\n",
    "pc = pmv.plot_array(heads1, vmin=vmin, vmax=vmax)\n",
    "pmv.plot_ibound()\n",
    "pmv.plot_bc(\"WEL\")\n",
    "pmv.plot_bc(\"RIV\", color=\"c\")\n",
    "pmv.plot_grid()\n",
    "ax1.set_title(\"Model 1\")\n",
    "\n",
    "fig.subplots_adjust(right=0.8)\n",
    "cbar_ax = fig.add_axes([0.85, 0.15, 0.05, 0.7])\n",
    "cbar = fig.colorbar(pc, cax=cbar_ax, label=\"Hydraulic heads\")"
   ]
  },
  {
   "cell_type": "markdown",
   "id": "6a0d5292",
   "metadata": {},
   "source": [
    "## Hands on example: Synthetic desert\n",
    "\n",
    "For this example load the synthetic desert model from Day 1, split the model into at least 4 models and inspect the outputs."
   ]
  },
  {
   "cell_type": "code",
   "execution_count": null,
   "id": "42f5e2fa",
   "metadata": {},
   "outputs": [],
   "source": [
    "sim_ws = Path(\"./model_files\")"
   ]
  },
  {
   "cell_type": "code",
   "execution_count": null,
   "id": "0014f46d",
   "metadata": {},
   "outputs": [],
   "source": [
    "sim = flopy.mf6.MFSimulation.load(sim_ws=sim_ws)\n",
    "success, buff = sim.run_simulation(silent=True)\n",
    "assert success"
   ]
  },
  {
   "cell_type": "markdown",
   "id": "841192a3",
   "metadata": {},
   "source": [
    "Using information from the groundwater flow model instance or the modelgrid, create an array to split the model into 4 or more models."
   ]
  },
  {
   "cell_type": "code",
   "execution_count": null,
   "id": "cded4fe7",
   "metadata": {},
   "outputs": [],
   "source": [
    "gwf = sim.get_model()\n",
    "modelgrid = gwf.modelgrid"
   ]
  },
  {
   "cell_type": "code",
   "execution_count": null,
   "id": "9555e1c0",
   "metadata": {},
   "outputs": [],
   "source": [
    "# students do this\n",
    "array = np.zeros((modelgrid.nrow, modelgrid.ncol), dtype=int)\n",
    "rixs = [0, modelgrid.nrow // 2]\n",
    "cixs = [0, modelgrid.ncol // 2]\n",
    "\n",
    "cnt = 0\n",
    "for r in rixs:\n",
    "    for c in cixs:\n",
    "        array[r:, c:] = cnt\n",
    "        cnt += 1"
   ]
  },
  {
   "cell_type": "markdown",
   "id": "88b994dc",
   "metadata": {},
   "source": [
    "Visualize your array using matplotlib or flopy's `PlotMapView`"
   ]
  },
  {
   "cell_type": "code",
   "execution_count": null,
   "id": "684b0aae",
   "metadata": {},
   "outputs": [],
   "source": [
    "plt.imshow(array, interpolation='None')\n",
    "plt.colorbar()"
   ]
  },
  {
   "cell_type": "markdown",
   "id": "c5bbfbf1",
   "metadata": {},
   "source": [
    "split the model using `Mf6Splitter()`"
   ]
  },
  {
   "cell_type": "code",
   "execution_count": null,
   "id": "7fca48c5",
   "metadata": {},
   "outputs": [],
   "source": [
    "mfsplit = Mf6Splitter(sim)\n",
    "new_sim = mfsplit.split_model(array)\n",
    "new_sim"
   ]
  },
  {
   "cell_type": "markdown",
   "id": "f329219c",
   "metadata": {},
   "source": [
    "write the simulation to a new directory and run it"
   ]
  },
  {
   "cell_type": "code",
   "execution_count": null,
   "id": "932070fe",
   "metadata": {},
   "outputs": [],
   "source": [
    "sim_ws = sim_ws / \"split_model\"\n",
    "new_sim.set_sim_path(sim_ws)\n",
    "new_sim.write_simulation()\n",
    "new_sim.run_simulation()"
   ]
  },
  {
   "cell_type": "markdown",
   "id": "2f3682ff",
   "metadata": {},
   "source": [
    "Visualize the heads in all four models"
   ]
  },
  {
   "cell_type": "code",
   "execution_count": null,
   "id": "eef14bc9",
   "metadata": {},
   "outputs": [],
   "source": [
    "heads = []\n",
    "models = []\n",
    "vmin = 1e+10\n",
    "vmax = -1e+10\n",
    "for mname in new_sim.model_names:\n",
    "    ml = new_sim.get_model(mname)\n",
    "    head = ml.output.head().get_alldata()[-1]\n",
    "    head[head == 1e+30] = np.nan\n",
    "    if np.nanmin(head) < vmin:\n",
    "        vmin = np.nanmin(head)\n",
    "    if np.nanmax(head) > vmax:\n",
    "        vmax = np.nanmax(head)\n",
    "    heads.append(head)\n",
    "    models.append(ml)"
   ]
  },
  {
   "cell_type": "code",
   "execution_count": null,
   "id": "ab26dfe7",
   "metadata": {},
   "outputs": [],
   "source": [
    "fig, axs = plt.subplots(2, 2, figsize=(12, 12))\n",
    "for ix, ax in enumerate(axs.ravel()):\n",
    "    ml = models[ix]\n",
    "    pmv = flopy.plot.PlotMapView(ml, ax=ax)\n",
    "    pc = pmv.plot_array(heads[ix], vmin=vmin, vmax=vmax)\n",
    "    pmv.plot_ibound()\n",
    "    ax.set_title(f\"Model {ix}\")\n",
    "\n",
    "fig.subplots_adjust(right=0.8)\n",
    "cbar_ax = fig.add_axes([0.85, 0.15, 0.05, 0.7])\n",
    "cbar = fig.colorbar(pc, cax=cbar_ax, label=\"Hydraulic heads\")"
   ]
  },
  {
   "cell_type": "markdown",
   "id": "bb214665",
   "metadata": {},
   "source": [
    "### Reassemble the heads to the original model shape for plotting\n",
    "\n",
    "The `Mf6Splitter()` has a method called `reconstruct_array()` that can be used to assemble arrays from multiple models into the original model shape.\n",
    "\n",
    "Create a dictionary of {model number : head_array} and use the `reconstruct_array()` method to get a numpy array that is the original shape of the unsplit model."
   ]
  },
  {
   "cell_type": "code",
   "execution_count": null,
   "id": "20993762",
   "metadata": {},
   "outputs": [],
   "source": [
    "head_dict = {ix: arr for ix, arr in enumerate(heads)}\n",
    "ra_heads = mfsplit.reconstruct_array(head_dict)"
   ]
  },
  {
   "cell_type": "markdown",
   "id": "456470f8",
   "metadata": {},
   "source": [
    "now plot the reconstructed arrays"
   ]
  },
  {
   "cell_type": "code",
   "execution_count": null,
   "id": "451385c0",
   "metadata": {},
   "outputs": [],
   "source": [
    "fig, ax = plt.subplots(figsize=(8, 8))\n",
    "\n",
    "pmv = flopy.plot.PlotMapView(modelgrid=modelgrid, ax=ax)\n",
    "pc = pmv.plot_array(ra_heads)\n",
    "ib = pmv.plot_inactive()\n",
    "plt.colorbar(pc, shrink=0.8);"
   ]
  },
  {
   "cell_type": "markdown",
   "id": "15da1690",
   "metadata": {},
   "source": [
    "## Create a load balanced splitting mask for a model\n",
    "\n",
    "In the previous examples, the watershed model splitting mask was defined by the user. `Mf6Splitter` also has a method called `optimize_splitting_mask` that creates a mask based on the number of models the user would like to generate.\n",
    "\n",
    "The `optimize_splitting_mask()` method generates a vertex weighted adjacency graph, based on the number active and inactive nodes in all layers of the model. This adjacency graph is then provided to `pymetis` which does the work for us and returns a membership array for each node.\n",
    "\n",
    "The `optimize_splitting_mask()` method just needs the number of models supplied to it."
   ]
  },
  {
   "cell_type": "code",
   "execution_count": null,
   "id": "9e7bc928",
   "metadata": {},
   "outputs": [],
   "source": [
    "mfsplit = Mf6Splitter(sim)\n",
    "# split the model\n",
    "array = mfsplit.optimize_splitting_mask(nparts=8)"
   ]
  },
  {
   "cell_type": "markdown",
   "id": "2290b04a",
   "metadata": {},
   "source": [
    "Plot the load balanced array"
   ]
  },
  {
   "cell_type": "code",
   "execution_count": null,
   "id": "a0da4b06",
   "metadata": {},
   "outputs": [],
   "source": [
    "fig, ax = plt.subplots(figsize=(8, 8))\n",
    "\n",
    "pmv = flopy.plot.PlotMapView(model=gwf)\n",
    "pc = pmv.plot_array(array)\n",
    "ib = pmv.plot_inactive()\n",
    "plt.colorbar(pc, shrink=0.8);"
   ]
  },
  {
   "cell_type": "markdown",
   "id": "2caa612c",
   "metadata": {},
   "source": [
    "split, write, and run the split simulation"
   ]
  },
  {
   "cell_type": "code",
   "execution_count": null,
   "id": "18113ac6",
   "metadata": {},
   "outputs": [],
   "source": [
    "new_sim = mfsplit.split_model(array)\n",
    "new_sim.set_sim_path(sim_ws)\n",
    "new_sim.write_simulation()\n",
    "new_sim.run_simulation()"
   ]
  },
  {
   "cell_type": "markdown",
   "id": "9250274f",
   "metadata": {},
   "source": [
    "## Saving node mapping to file\n",
    "\n",
    "`Mf6Splitter` has a method, `save_node_mapping()` to save the internal model splitter's node mapping information to file.\n",
    "\n",
    "The `save_node_mapping()` method accepts a JSON file name."
   ]
  },
  {
   "cell_type": "code",
   "execution_count": null,
   "id": "59b3fe7e",
   "metadata": {},
   "outputs": [],
   "source": [
    "json_file = sim_ws / \"node_map.json\"\n",
    "mfsplit.save_node_mapping(json_file)"
   ]
  },
  {
   "cell_type": "markdown",
   "id": "16013701",
   "metadata": {},
   "source": [
    "## Loading a saved node map from file\n",
    "\n",
    "`Mf6Splitter` has a `load_node_mapping()` function that allows the user to load an existing node mapping for array reconstuction.\n",
    "\n",
    "The `load_node_mapping()` function needs the split simulation object and the JSON node mapping file"
   ]
  },
  {
   "cell_type": "code",
   "execution_count": null,
   "id": "d5d6a8e3",
   "metadata": {},
   "outputs": [],
   "source": [
    "new_sim2 = flopy.mf6.MFSimulation.load(sim_ws=sim_ws)\n",
    "mfsplit = Mf6Splitter(new_sim2)\n",
    "mfsplit.load_node_mapping(new_sim2, json_file)"
   ]
  },
  {
   "cell_type": "markdown",
   "id": "37efd7cc",
   "metadata": {},
   "source": [
    "Plot up the split model's heads"
   ]
  },
  {
   "cell_type": "code",
   "execution_count": null,
   "id": "b6c5ba05",
   "metadata": {},
   "outputs": [],
   "source": [
    "head_dict = {}\n",
    "for ix, mname in enumerate(new_sim2.model_names):\n",
    "    ml = new_sim2.get_model(mname)\n",
    "    head_dict[ix] = ml.output.head().get_alldata()[-1]\n",
    "\n",
    "ra_heads = mfsplit.reconstruct_array(head_dict)"
   ]
  },
  {
   "cell_type": "code",
   "execution_count": null,
   "id": "ced71640",
   "metadata": {},
   "outputs": [],
   "source": [
    "fig, ax = plt.subplots(figsize=(8, 8))\n",
    "\n",
    "pmv = flopy.plot.PlotMapView(modelgrid=modelgrid, ax=ax)\n",
    "pc = pmv.plot_array(ra_heads)\n",
    "ib = pmv.plot_inactive()\n",
    "plt.colorbar(pc, shrink=0.8);"
   ]
  },
  {
   "cell_type": "markdown",
   "id": "592746a8",
   "metadata": {},
   "source": [
    "More information about the model splitter can be found [here](https://flopy.readthedocs.io/en/latest/Notebooks/raster_intersection_example.html)"
   ]
  },
  {
   "cell_type": "code",
   "execution_count": null,
   "id": "4e351447",
   "metadata": {},
   "outputs": [],
   "source": []
  }
 ],
 "metadata": {
  "kernelspec": {
   "display_name": "Python 3 (ipykernel)",
   "language": "python",
   "name": "python3"
  },
  "language_info": {
   "codemirror_mode": {
    "name": "ipython",
    "version": 3
   },
   "file_extension": ".py",
   "mimetype": "text/x-python",
   "name": "python",
   "nbconvert_exporter": "python",
   "pygments_lexer": "ipython3",
   "version": "3.9.12"
  }
 },
 "nbformat": 4,
 "nbformat_minor": 5
}
